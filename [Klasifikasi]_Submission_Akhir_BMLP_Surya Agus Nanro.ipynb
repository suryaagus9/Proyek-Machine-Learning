{
 "cells": [
  {
   "cell_type": "markdown",
   "metadata": {
    "id": "fKADPWcFKlj3"
   },
   "source": [
    "# **1. Import Library**"
   ]
  },
  {
   "cell_type": "markdown",
   "metadata": {
    "id": "LgA3ERnVn84N"
   },
   "source": [
    "Pada tahap ini, Anda perlu mengimpor beberapa pustaka (library) Python yang dibutuhkan untuk analisis data dan pembangunan model machine learning."
   ]
  },
  {
   "cell_type": "code",
   "execution_count": 1,
   "metadata": {
    "id": "BlmvjLY9M4Yj"
   },
   "outputs": [],
   "source": [
    "import pandas as pd\n",
    "import numpy as np\n",
    "import matplotlib.pyplot as plt\n",
    "import seaborn as sns \n",
    "from sklearn.model_selection import train_test_split\n",
    "from sklearn.preprocessing import OneHotEncoder, StandardScaler\n",
    "from sklearn.tree import DecisionTreeClassifier\n",
    "from sklearn.ensemble import RandomForestClassifier\n",
    "from sklearn.pipeline import Pipeline\n",
    "from sklearn.svm import SVC\n",
    "from sklearn.metrics import accuracy_score, classification_report, confusion_matrix\n",
    "from sklearn.compose import ColumnTransformer\n",
    "from sklearn.model_selection import GridSearchCV"
   ]
  },
  {
   "cell_type": "markdown",
   "metadata": {
    "id": "f3YIEnAFKrKL"
   },
   "source": [
    "# **2. Memuat Dataset dari Hasil Clustering**"
   ]
  },
  {
   "cell_type": "markdown",
   "metadata": {
    "id": "Ey3ItwTen_7E"
   },
   "source": [
    "Memuat dataset hasil clustering dari file CSV ke dalam variabel DataFrame."
   ]
  },
  {
   "cell_type": "code",
   "execution_count": 2,
   "metadata": {
    "colab": {
     "base_uri": "https://localhost:8080/",
     "height": 360
    },
    "id": "lWMMEOjxkchW",
    "outputId": "e5e62bd0-8b6b-4b76-d718-a8a3e617a40d"
   },
   "outputs": [],
   "source": [
    "# Memuat dataset\n",
    "df = pd.read_csv(\"Dataset_clustering.csv\")"
   ]
  },
  {
   "cell_type": "code",
   "execution_count": 3,
   "metadata": {},
   "outputs": [
    {
     "data": {
      "text/html": [
       "<div>\n",
       "<style scoped>\n",
       "    .dataframe tbody tr th:only-of-type {\n",
       "        vertical-align: middle;\n",
       "    }\n",
       "\n",
       "    .dataframe tbody tr th {\n",
       "        vertical-align: top;\n",
       "    }\n",
       "\n",
       "    .dataframe thead th {\n",
       "        text-align: right;\n",
       "    }\n",
       "</style>\n",
       "<table border=\"1\" class=\"dataframe\">\n",
       "  <thead>\n",
       "    <tr style=\"text-align: right;\">\n",
       "      <th></th>\n",
       "      <th>TransactionID</th>\n",
       "      <th>AccountID</th>\n",
       "      <th>TransactionAmount</th>\n",
       "      <th>TransactionDate</th>\n",
       "      <th>Location</th>\n",
       "      <th>DeviceID</th>\n",
       "      <th>IP Address</th>\n",
       "      <th>MerchantID</th>\n",
       "      <th>CustomerAge</th>\n",
       "      <th>TransactionDuration</th>\n",
       "      <th>...</th>\n",
       "      <th>TransactionType_Debit</th>\n",
       "      <th>Channel_Branch</th>\n",
       "      <th>Channel_Online</th>\n",
       "      <th>CustomerOccupation_Engineer</th>\n",
       "      <th>CustomerOccupation_Retired</th>\n",
       "      <th>CustomerOccupation_Student</th>\n",
       "      <th>Balance_Category</th>\n",
       "      <th>Age_Category</th>\n",
       "      <th>Cluster</th>\n",
       "      <th>Cluster_After_FeatureSelection</th>\n",
       "    </tr>\n",
       "  </thead>\n",
       "  <tbody>\n",
       "    <tr>\n",
       "      <th>0</th>\n",
       "      <td>TX000001</td>\n",
       "      <td>6</td>\n",
       "      <td>14.09</td>\n",
       "      <td>2023-04-11 16:29:14</td>\n",
       "      <td>51</td>\n",
       "      <td>6</td>\n",
       "      <td>3</td>\n",
       "      <td>29</td>\n",
       "      <td>70.0</td>\n",
       "      <td>81.0</td>\n",
       "      <td>...</td>\n",
       "      <td>True</td>\n",
       "      <td>False</td>\n",
       "      <td>False</td>\n",
       "      <td>False</td>\n",
       "      <td>False</td>\n",
       "      <td>False</td>\n",
       "      <td>Moderate</td>\n",
       "      <td>Senior</td>\n",
       "      <td>1</td>\n",
       "      <td>0</td>\n",
       "    </tr>\n",
       "    <tr>\n",
       "      <th>1</th>\n",
       "      <td>TX000002</td>\n",
       "      <td>7</td>\n",
       "      <td>376.24</td>\n",
       "      <td>2023-06-27 16:44:19</td>\n",
       "      <td>56</td>\n",
       "      <td>4</td>\n",
       "      <td>4</td>\n",
       "      <td>25</td>\n",
       "      <td>68.0</td>\n",
       "      <td>141.0</td>\n",
       "      <td>...</td>\n",
       "      <td>True</td>\n",
       "      <td>False</td>\n",
       "      <td>False</td>\n",
       "      <td>False</td>\n",
       "      <td>False</td>\n",
       "      <td>False</td>\n",
       "      <td>Very High</td>\n",
       "      <td>Senior</td>\n",
       "      <td>1</td>\n",
       "      <td>0</td>\n",
       "    </tr>\n",
       "    <tr>\n",
       "      <th>2</th>\n",
       "      <td>TX000003</td>\n",
       "      <td>4</td>\n",
       "      <td>126.29</td>\n",
       "      <td>2023-07-10 18:16:08</td>\n",
       "      <td>56</td>\n",
       "      <td>5</td>\n",
       "      <td>6</td>\n",
       "      <td>26</td>\n",
       "      <td>19.0</td>\n",
       "      <td>56.0</td>\n",
       "      <td>...</td>\n",
       "      <td>True</td>\n",
       "      <td>False</td>\n",
       "      <td>True</td>\n",
       "      <td>False</td>\n",
       "      <td>False</td>\n",
       "      <td>True</td>\n",
       "      <td>Low</td>\n",
       "      <td>Young</td>\n",
       "      <td>0</td>\n",
       "      <td>1</td>\n",
       "    </tr>\n",
       "    <tr>\n",
       "      <th>3</th>\n",
       "      <td>TX000004</td>\n",
       "      <td>7</td>\n",
       "      <td>184.50</td>\n",
       "      <td>2023-05-05 16:32:11</td>\n",
       "      <td>55</td>\n",
       "      <td>6</td>\n",
       "      <td>8</td>\n",
       "      <td>29</td>\n",
       "      <td>26.0</td>\n",
       "      <td>25.0</td>\n",
       "      <td>...</td>\n",
       "      <td>True</td>\n",
       "      <td>False</td>\n",
       "      <td>True</td>\n",
       "      <td>False</td>\n",
       "      <td>False</td>\n",
       "      <td>True</td>\n",
       "      <td>High</td>\n",
       "      <td>Young</td>\n",
       "      <td>1</td>\n",
       "      <td>0</td>\n",
       "    </tr>\n",
       "    <tr>\n",
       "      <th>4</th>\n",
       "      <td>TX000005</td>\n",
       "      <td>6</td>\n",
       "      <td>13.45</td>\n",
       "      <td>2023-10-16 17:51:24</td>\n",
       "      <td>57</td>\n",
       "      <td>3</td>\n",
       "      <td>4</td>\n",
       "      <td>27</td>\n",
       "      <td>26.0</td>\n",
       "      <td>198.0</td>\n",
       "      <td>...</td>\n",
       "      <td>False</td>\n",
       "      <td>False</td>\n",
       "      <td>True</td>\n",
       "      <td>False</td>\n",
       "      <td>False</td>\n",
       "      <td>True</td>\n",
       "      <td>Moderate</td>\n",
       "      <td>Young</td>\n",
       "      <td>0</td>\n",
       "      <td>1</td>\n",
       "    </tr>\n",
       "  </tbody>\n",
       "</table>\n",
       "<p>5 rows × 23 columns</p>\n",
       "</div>"
      ],
      "text/plain": [
       "  TransactionID  AccountID  TransactionAmount      TransactionDate  Location  \\\n",
       "0      TX000001          6              14.09  2023-04-11 16:29:14        51   \n",
       "1      TX000002          7             376.24  2023-06-27 16:44:19        56   \n",
       "2      TX000003          4             126.29  2023-07-10 18:16:08        56   \n",
       "3      TX000004          7             184.50  2023-05-05 16:32:11        55   \n",
       "4      TX000005          6              13.45  2023-10-16 17:51:24        57   \n",
       "\n",
       "   DeviceID  IP Address  MerchantID  CustomerAge  TransactionDuration  ...  \\\n",
       "0         6           3          29         70.0                 81.0  ...   \n",
       "1         4           4          25         68.0                141.0  ...   \n",
       "2         5           6          26         19.0                 56.0  ...   \n",
       "3         6           8          29         26.0                 25.0  ...   \n",
       "4         3           4          27         26.0                198.0  ...   \n",
       "\n",
       "   TransactionType_Debit  Channel_Branch Channel_Online  \\\n",
       "0                   True           False          False   \n",
       "1                   True           False          False   \n",
       "2                   True           False           True   \n",
       "3                   True           False           True   \n",
       "4                  False           False           True   \n",
       "\n",
       "   CustomerOccupation_Engineer  CustomerOccupation_Retired  \\\n",
       "0                        False                       False   \n",
       "1                        False                       False   \n",
       "2                        False                       False   \n",
       "3                        False                       False   \n",
       "4                        False                       False   \n",
       "\n",
       "   CustomerOccupation_Student  Balance_Category  Age_Category  Cluster  \\\n",
       "0                       False          Moderate        Senior        1   \n",
       "1                       False         Very High        Senior        1   \n",
       "2                        True               Low         Young        0   \n",
       "3                        True              High         Young        1   \n",
       "4                        True          Moderate         Young        0   \n",
       "\n",
       "  Cluster_After_FeatureSelection  \n",
       "0                              0  \n",
       "1                              0  \n",
       "2                              1  \n",
       "3                              0  \n",
       "4                              1  \n",
       "\n",
       "[5 rows x 23 columns]"
      ]
     },
     "execution_count": 3,
     "metadata": {},
     "output_type": "execute_result"
    }
   ],
   "source": [
    "# Menampilkan 5 data pertama\n",
    "df.head()"
   ]
  },
  {
   "cell_type": "markdown",
   "metadata": {
    "id": "KkPem5eWL2UP"
   },
   "source": [
    "# **3. Data Splitting**"
   ]
  },
  {
   "cell_type": "markdown",
   "metadata": {
    "id": "YYj1rl_JNI9Y"
   },
   "source": [
    "Tahap Data Splitting bertujuan untuk memisahkan dataset menjadi dua bagian: data latih (training set) dan data uji (test set)."
   ]
  },
  {
   "cell_type": "code",
   "execution_count": 4,
   "metadata": {
    "colab": {
     "base_uri": "https://localhost:8080/"
    },
    "id": "Hl-CzDawRS6F",
    "outputId": "b81c4ea0-c99e-4c38-dba1-53f7bab0aa88"
   },
   "outputs": [
    {
     "name": "stdout",
     "output_type": "stream",
     "text": [
      "Data latih terdiri dari 1825 sampel dan 19 fitur.\n",
      "Data uji terdiri dari 457 sampel dan 19 fitur.\n"
     ]
    }
   ],
   "source": [
    "# Memisahkan variabel independen (fitur) dan dependen (label target)\n",
    "X = df.drop(columns=[\"Cluster\", \"Cluster_After_FeatureSelection\", \"TransactionID\", \"AccountID\"])\n",
    "y = df[\"Cluster_After_FeatureSelection\"]\n",
    "\n",
    "# Membagi dataset menjadi set pelatihan (80%) dan pengujian (20%) dengan stratifikasi\n",
    "X_train, X_test, y_train, y_test = train_test_split(X, y, test_size=0.2, stratify=y, random_state=42)\n",
    "\n",
    "# Menampilkan jumlah sampel dan fitur setelah pembagian\n",
    "print(f\"Data latih terdiri dari {X_train.shape[0]} sampel dan {X_train.shape[1]} fitur.\")\n",
    "print(f\"Data uji terdiri dari {X_test.shape[0]} sampel dan {X_test.shape[1]} fitur.\")"
   ]
  },
  {
   "cell_type": "markdown",
   "metadata": {
    "id": "IVPbB03CMhTT"
   },
   "source": [
    "# **4. Membangun Model Klasifikasi**\n"
   ]
  },
  {
   "cell_type": "markdown",
   "metadata": {
    "id": "Ned1pL9zMmBK"
   },
   "source": [
    "## **a. Membangun Model Klasifikasi**"
   ]
  },
  {
   "cell_type": "markdown",
   "metadata": {
    "id": "WAWzPOE4Nkti"
   },
   "source": [
    "Setelah memilih algoritma klasifikasi yang sesuai, langkah selanjutnya adalah melatih model menggunakan data latih.\n",
    "\n",
    "Berikut adalah rekomendasi tahapannya.\n",
    "1. Pilih algoritma klasifikasi yang sesuai, seperti Logistic Regression, Decision Tree, Random Forest, atau K-Nearest Neighbors (KNN).\n",
    "2. Latih model menggunakan data latih."
   ]
  },
  {
   "cell_type": "code",
   "execution_count": 5,
   "metadata": {
    "colab": {
     "base_uri": "https://localhost:8080/"
    },
    "id": "4JYxBe87NLDk",
    "outputId": "4004e7e6-9797-41dc-9374-54b03b926203"
   },
   "outputs": [
    {
     "name": "stdout",
     "output_type": "stream",
     "text": [
      "\n",
      "Evaluasi Decision Tree:\n",
      "              precision    recall  f1-score     support\n",
      "0              0.938983  0.982270  0.960139  282.000000\n",
      "1              0.969136  0.897143  0.931751  175.000000\n",
      "accuracy       0.949672  0.949672  0.949672    0.949672\n",
      "macro avg      0.954059  0.939706  0.945945  457.000000\n",
      "weighted avg   0.950530  0.949672  0.949268  457.000000\n",
      "\n",
      "Evaluasi Random Forest:\n",
      "              precision    recall  f1-score     support\n",
      "0              0.955479  0.989362  0.972125  282.000000\n",
      "1              0.981818  0.925714  0.952941  175.000000\n",
      "accuracy       0.964989  0.964989  0.964989    0.964989\n",
      "macro avg      0.968649  0.957538  0.962533  457.000000\n",
      "weighted avg   0.965565  0.964989  0.964779  457.000000\n",
      "\n",
      "Evaluasi SVM:\n",
      "              precision    recall  f1-score     support\n",
      "0              0.978648  0.975177  0.976909  282.000000\n",
      "1              0.960227  0.965714  0.962963  175.000000\n",
      "accuracy       0.971554  0.971554  0.971554    0.971554\n",
      "macro avg      0.969437  0.970446  0.969936  457.000000\n",
      "weighted avg   0.971594  0.971554  0.971569  457.000000\n"
     ]
    }
   ],
   "source": [
    "# Menentukan fitur kategorikal\n",
    "categorical_cols = X_train.select_dtypes(include=[\"object\"]).columns\n",
    "\n",
    "# Preprocessing untuk model berbasis pohon keputusan\n",
    "tree_preprocessor = ColumnTransformer(\n",
    "    transformers=[(\"categorical\", OneHotEncoder(handle_unknown=\"ignore\"), categorical_cols)],\n",
    "    remainder=\"passthrough\"\n",
    ")\n",
    "\n",
    "# Preprocessing untuk model berbasis SVM (normalisasi tambahan)\n",
    "svm_preprocessor = ColumnTransformer(\n",
    "    transformers=[\n",
    "        (\"categorical\", OneHotEncoder(handle_unknown=\"ignore\"), categorical_cols),\n",
    "        (\"numerical\", StandardScaler(), X_train.select_dtypes(include=[\"int64\", \"float64\"]).columns)\n",
    "    ]\n",
    ")\n",
    "\n",
    "# Model Decision Tree\n",
    "decision_tree_pipeline = Pipeline([\n",
    "    (\"preprocessing\", tree_preprocessor),\n",
    "    (\"model\", DecisionTreeClassifier(random_state=42, max_depth=5))\n",
    "])\n",
    "\n",
    "decision_tree_pipeline.fit(X_train, y_train)\n",
    "dt_predictions = decision_tree_pipeline.predict(X_test)\n",
    "\n",
    "# Model Random Forest\n",
    "random_forest_pipeline = Pipeline([\n",
    "    (\"preprocessing\", tree_preprocessor),\n",
    "    (\"model\", RandomForestClassifier(random_state=21, n_estimators=100))\n",
    "])\n",
    "\n",
    "random_forest_pipeline.fit(X_train, y_train)\n",
    "rf_predictions = random_forest_pipeline.predict(X_test)\n",
    "\n",
    "# Model SVM\n",
    "svm_pipeline = Pipeline([\n",
    "    (\"preprocessing\", svm_preprocessor),\n",
    "    (\"model\", SVC(kernel=\"rbf\", C=1.0, gamma=\"scale\"))\n",
    "])\n",
    "\n",
    "svm_pipeline.fit(X_train, y_train)\n",
    "svm_predictions = svm_pipeline.predict(X_test)\n",
    "\n",
    "# Menyusun hasil evaluasi\n",
    "evaluation_results = {\n",
    "    \"Model\": [\"Decision Tree\", \"Random Forest\", \"SVM\"],\n",
    "    \"Accuracy\": [\n",
    "        accuracy_score(y_test, dt_predictions),\n",
    "        accuracy_score(y_test, rf_predictions),\n",
    "        accuracy_score(y_test, svm_predictions)\n",
    "    ]\n",
    "}\n",
    "\n",
    "# Menampilkan laporan klasifikasi\n",
    "print(\"\\nEvaluasi Decision Tree:\")\n",
    "print(pd.DataFrame(classification_report(y_test, dt_predictions, output_dict=True)).T)\n",
    "\n",
    "print(\"\\nEvaluasi Random Forest:\")\n",
    "print(pd.DataFrame(classification_report(y_test, rf_predictions, output_dict=True)).T)\n",
    "\n",
    "print(\"\\nEvaluasi SVM:\")\n",
    "print(pd.DataFrame(classification_report(y_test, svm_predictions, output_dict=True)).T)"
   ]
  },
  {
   "cell_type": "markdown",
   "metadata": {
    "id": "seYoHNY3XU1y"
   },
   "source": [
    "### **Analisis Algoritma Model Klasifikasi**\n",
    "\n",
    "Pada tahap ini, tiga algoritma klasifikasi digunakan untuk memprediksi hasil clustering, yaitu **Decision Tree, Random Forest**, dan **Support Vector Machine (SVM)**.\n",
    "\n",
    "#### **Decision Tree**\n",
    "- Algoritma ini membagi data berdasarkan fitur dalam bentuk struktur pohon.\n",
    "- Model ini menghasilkan **akurasi 94.97%**, dengan **precision 93.90%** dan **recall 98.23%** pada Cluster 0, serta **precision 96.91%** dan **recall 89.71%** pada Cluster 1.\n",
    "- Meskipun cukup seimbang, performanya masih lebih rendah dibandingkan dua model lainnya.\n",
    "\n",
    "#### **Random Forest**\n",
    "- Random Forest adalah ensemble dari banyak pohon keputusan yang meningkatkan akurasi dan mengurangi overfitting.\n",
    "- Model ini mencapai **akurasi 96.50%**, dengan **precision 95.55%** dan **recall 98.94%** untuk Cluster 0, serta **precision 98.18%** dan **recall 92.57%** untuk Cluster 1.\n",
    "- Peningkatan performa dibanding Decision Tree menunjukkan keunggulan pendekatan ensemble.\n",
    "\n",
    "#### **Support Vector Machine (SVM)**\n",
    "- SVM mencari hyperplane optimal untuk memisahkan kelas dalam ruang berdimensi tinggi.\n",
    "- Model ini memiliki **akurasi tertinggi 97.15%**, dengan **precision 97.86%**, **recall 97.52%** (Cluster 0), dan **precision 96.02%**, **recall 96.57%** (Cluster 1).\n",
    "- Performa seimbang pada kedua cluster menjadikan SVM model paling andal dalam klasifikasi ini.\n",
    "\n",
    "Berdasarkan hasil evaluasi, **SVM** menunjukkan performa terbaik secara keseluruhan, diikuti oleh **Random Forest**, dan kemudian **Decision Tree**. Hal ini menunjukkan bahwa pendekatan margin maksimal pada SVM sangat cocok untuk struktur data ini.\n"
   ]
  },
  {
   "cell_type": "markdown",
   "metadata": {
    "id": "ergzChZFEL-O"
   },
   "source": [
    "## **b. Evaluasi Model Klasifikasi**"
   ]
  },
  {
   "cell_type": "markdown",
   "metadata": {
    "id": "zOm68u-7NpLT"
   },
   "source": [
    "Berikut adalah **rekomendasi** tahapannya.\n",
    "1. Lakukan prediksi menggunakan data uji.\n",
    "2. Hitung metrik evaluasi seperti Accuracy dan F1-Score (Opsional: Precision dan Recall).\n",
    "3. Buat confusion matrix untuk melihat detail prediksi benar dan salah."
   ]
  },
  {
   "cell_type": "code",
   "execution_count": 6,
   "metadata": {},
   "outputs": [],
   "source": [
    "# Preprocessor untuk Decision Tree dan Random Forest\n",
    "transformer_tree = ColumnTransformer(\n",
    "    transformers=[(\"categorical\", OneHotEncoder(handle_unknown=\"ignore\"), categorical_cols)],\n",
    "    remainder=\"passthrough\"\n",
    ")\n",
    "\n",
    "# Preprocessor untuk SVM (OneHotEncoder + StandardScaler)\n",
    "transformer_svm = ColumnTransformer(\n",
    "    transformers=[\n",
    "        (\"categorical\", OneHotEncoder(handle_unknown=\"ignore\"), categorical_cols),\n",
    "        (\"numerical\", StandardScaler(), X_train.select_dtypes(include=[\"int64\", \"float64\"]).columns.tolist())\n",
    "    ]\n",
    ")"
   ]
  },
  {
   "cell_type": "code",
   "execution_count": 7,
   "metadata": {},
   "outputs": [],
   "source": [
    "# Model Decision Tree\n",
    "model_dt = Pipeline([\n",
    "    (\"preprocessing\", transformer_tree),\n",
    "    (\"classifier\", DecisionTreeClassifier(random_state=21, max_depth=5))\n",
    "])\n",
    "model_dt.fit(X_train, y_train)\n",
    "y_dt_pred = model_dt.predict(X_test)\n",
    "\n",
    "# Model Random Forest\n",
    "model_rf = Pipeline([\n",
    "    (\"preprocessing\", transformer_tree),\n",
    "    (\"classifier\", RandomForestClassifier(random_state=42, n_estimators=100))\n",
    "])\n",
    "model_rf.fit(X_train, y_train)\n",
    "y_rf_pred = model_rf.predict(X_test)\n",
    "\n",
    "# Model Support Vector Machine (SVM)\n",
    "model_svm = Pipeline([\n",
    "    (\"preprocessing\", transformer_svm),\n",
    "    (\"classifier\", SVC(kernel=\"rbf\", C=1.0, gamma=\"scale\"))\n",
    "])\n",
    "model_svm.fit(X_train, y_train)\n",
    "y_svm_pred = model_svm.predict(X_test)"
   ]
  },
  {
   "cell_type": "code",
   "execution_count": 8,
   "metadata": {
    "colab": {
     "base_uri": "https://localhost:8080/",
     "height": 1000
    },
    "id": "tMq4QAssNLip",
    "outputId": "cceddbae-9568-4b44-dcb9-5d5659d5f8de"
   },
   "outputs": [
    {
     "name": "stdout",
     "output_type": "stream",
     "text": [
      "           Model Cluster  Precision    Recall  F1-Score  Support  Accuracy\n",
      "0  Decision Tree       0   0.938983  0.982270  0.960139    282.0  0.949672\n",
      "1  Decision Tree       1   0.969136  0.897143  0.931751    175.0  0.949672\n",
      "2  Random Forest       0   0.948980  0.989362  0.968750    282.0  0.960613\n",
      "3  Random Forest       1   0.981595  0.914286  0.946746    175.0  0.960613\n",
      "4            SVM       0   0.978648  0.975177  0.976909    282.0  0.971554\n",
      "5            SVM       1   0.960227  0.965714  0.962963    175.0  0.971554\n"
     ]
    },
    {
     "data": {
      "image/png": "[encoded data removed]",
      "text/plain": [
       "<Figure size 600x400 with 2 Axes>"
      ]
     },
     "metadata": {},
     "output_type": "display_data"
    },
    {
     "data": {
      "image/png": "[encoded data removed]",
      "text/plain": [
       "<Figure size 600x400 with 2 Axes>"
      ]
     },
     "metadata": {},
     "output_type": "display_data"
    },
    {
     "data": {
      "image/png": "[encoded data removed]",
      "text/plain": [
       "<Figure size 600x400 with 2 Axes>"
      ]
     },
     "metadata": {},
     "output_type": "display_data"
    }
   ],
   "source": [
    "# Menyimpan hasil evaluasi dalam bentuk dictionary\n",
    "eval_metrics = {\n",
    "    \"Decision Tree\": classification_report(y_test, y_dt_pred, output_dict=True),\n",
    "    \"Random Forest\": classification_report(y_test, y_rf_pred, output_dict=True),\n",
    "    \"SVM\": classification_report(y_test, y_svm_pred, output_dict=True),\n",
    "}\n",
    "\n",
    "# Menghitung akurasi untuk setiap model\n",
    "accuracy_scores = {\n",
    "    \"Decision Tree\": accuracy_score(y_test, y_dt_pred),\n",
    "    \"Random Forest\": accuracy_score(y_test, y_rf_pred),\n",
    "    \"SVM\": accuracy_score(y_test, y_svm_pred),\n",
    "}\n",
    "\n",
    "# Menyusun data evaluasi ke dalam bentuk DataFrame\n",
    "evaluation_results = {\n",
    "    \"Model\": [],\n",
    "    \"Cluster\": [],\n",
    "    \"Precision\": [],\n",
    "    \"Recall\": [],\n",
    "    \"F1-Score\": [],\n",
    "    \"Support\": [],\n",
    "    \"Accuracy\": [],\n",
    "}\n",
    "\n",
    "# Menambahkan metrik evaluasi ke dalam DataFrame\n",
    "for model_name, report in eval_metrics.items():\n",
    "    acc = accuracy_scores[model_name]\n",
    "    for cluster in [\"0\", \"1\"]:\n",
    "        evaluation_results[\"Model\"].append(model_name)\n",
    "        evaluation_results[\"Cluster\"].append(cluster)\n",
    "        evaluation_results[\"Precision\"].append(report[cluster][\"precision\"])\n",
    "        evaluation_results[\"Recall\"].append(report[cluster][\"recall\"])\n",
    "        evaluation_results[\"F1-Score\"].append(report[cluster][\"f1-score\"])\n",
    "        evaluation_results[\"Support\"].append(report[cluster][\"support\"])\n",
    "        evaluation_results[\"Accuracy\"].append(acc)\n",
    "\n",
    "# Konversi dictionary ke dalam DataFrame\n",
    "df_evaluation = pd.DataFrame(evaluation_results)\n",
    "print(df_evaluation)\n",
    "\n",
    "def plot_conf_matrix(y_true, y_pred, model_name):\n",
    "    matrix = confusion_matrix(y_true, y_pred)\n",
    "    plt.figure(figsize=(6, 4))\n",
    "    sns.heatmap(matrix, annot=True, fmt=\"d\", cmap=\"Blues\", xticklabels=set(y_test), yticklabels=set(y_test))\n",
    "    plt.xlabel(\"Predicted Label\")\n",
    "    plt.ylabel(\"True Label\")\n",
    "    plt.title(f\"Confusion Matrix {model_name}\")\n",
    "    plt.show()\n",
    "\n",
    "# Visualisasi confusion matrix untuk setiap model\n",
    "plot_conf_matrix(y_test, y_dt_pred, \"Decision Tree\")\n",
    "plot_conf_matrix(y_test, y_rf_pred, \"Random Forest\")\n",
    "plot_conf_matrix(y_test, y_svm_pred, \"SVM\")\n"
   ]
  },
  {
   "cell_type": "markdown",
   "metadata": {
    "id": "H4_9OwrsXZlz"
   },
   "source": [
    "# Evaluasi Model Klasifikasi\n",
    "\n",
    "Pada tahap ini, tiga algoritma klasifikasi digunakan untuk memprediksi label kelas berdasarkan dataset yang telah diproses, yaitu Decision Tree, Random Forest, dan Support Vector Machine (SVM). Evaluasi dilakukan menggunakan metrik precision, recall, F1-score, dan accuracy untuk mengukur performa model.\n",
    "\n",
    "\n",
    "### **1. Decision Tree Classifier**\n",
    "- **Akurasi:** 94.97%\n",
    "\n",
    "#### Cluster 0\n",
    "- **Precision:** 93.90%  \n",
    "- **Recall:** 98.23%  \n",
    "- **F1-Score:** 96.01%  \n",
    "\n",
    "#### Cluster 1\n",
    "- **Precision:** 96.91%  \n",
    "- **Recall:** 89.71%  \n",
    "- **F1-Score:** 93.18%  \n",
    "\n",
    "#### Kesimpulan\n",
    "- Model ini memiliki recall tinggi pada Cluster 0 (98.23%), yang berarti model lebih sedikit melakukan kesalahan dalam mengidentifikasi kelas ini.\n",
    "- Recall pada Cluster 1 lebih rendah (89.71%), yang menunjukkan bahwa beberapa data Cluster 1 salah diklasifikasikan.\n",
    "- Akurasi total 94.97% menunjukkan performa yang cukup baik, tetapi ada potensi peningkatan dalam klasifikasi Cluster 1.\n",
    "\n",
    "\n",
    "### **2. Random Forest Classifier**\n",
    "- **Akurasi:** 96.06%\n",
    "\n",
    "#### Cluster 0\n",
    "- **Precision:** 94.90%  \n",
    "- **Recall:** 98.94%  \n",
    "- **F1-Score:** 96.88%  \n",
    "\n",
    "#### Cluster 1\n",
    "- **Precision:** 98.16%  \n",
    "- **Recall:** 91.43%  \n",
    "- **F1-Score:** 94.67%  \n",
    "\n",
    "#### Kesimpulan\n",
    "- Recall untuk Cluster 0 sangat tinggi (98.94%), yang berarti model sangat baik dalam mengidentifikasi data dari kelas ini.\n",
    "- Namun, Recall pada Cluster 1 sedikit lebih rendah (91.43%), yang menunjukkan bahwa model masih bisa salah mengklasifikasikan data kelas ini.\n",
    "- Dengan akurasi 96.06%, model ini memiliki performa lebih baik dibandingkan Decision Tree tetapi masih sedikit di bawah SVM.\n",
    "\n",
    "\n",
    "### **3. Support Vector Machine (SVM)**\n",
    "- **Akurasi:** **97.16%** (tertinggi di antara ketiga model)\n",
    "\n",
    "#### Cluster 0\n",
    "- **Precision:** 97.86%  \n",
    "- **Recall:** 97.52%  \n",
    "- **F1-Score:** 97.69%  \n",
    "\n",
    "#### Cluster 1\n",
    "- **Precision:** 96.02%  \n",
    "- **Recall:** 96.57%  \n",
    "- **F1-Score:** 96.30%  \n",
    "\n",
    "#### Kesimpulan\n",
    "- SVM memiliki keseimbangan precision dan recall yang sangat baik di kedua cluster.\n",
    "- Akurasi tertinggi (97.16%), menjadikan SVM sebagai model terbaik di antara tiga algoritma yang diuji.\n",
    "- Model ini lebih stabil dan akurat, dengan sedikit kesalahan dalam klasifikasi kedua cluster.\n",
    "\n",
    "\n",
    "### **Kesimpulan Perbandingan Model**\n",
    "1. **SVM** memiliki akurasi tertinggi (97.16%), menunjukkan performa paling unggul dibandingkan **Decision Tree (94.97%)** dan **Random Forest (96.06%)**.  \n",
    "2. Decision Tree memiliki recall tinggi untuk Cluster 0, tetapi akurasi totalnya paling rendah di antara ketiganya.  \n",
    "3. Random Forest unggul dalam precision dan recall untuk Cluster 0, namun sedikit tertinggal dalam mengklasifikasikan Cluster 1.  \n",
    "4. SVM unggul secara keseluruhan dengan keseimbangan yang baik antara precision dan recall di semua cluster.\n",
    "\n",
    " Berdasarkan hasil evaluasi, Support Vector Machine (SVM) adalah model terbaik untuk dataset ini karena memiliki akurasi tertinggi, stabilitas performa, dan keseimbangan metrik yang optimal.\n"
   ]
  },
  {
   "cell_type": "markdown",
   "metadata": {
    "id": "ph9yIYDXEPuB"
   },
   "source": [
    "## **c. Tuning Model Klasifikasi (Optional)**"
   ]
  },
  {
   "cell_type": "markdown",
   "metadata": {
    "id": "-Bikx3LINv5e"
   },
   "source": [
    "Gunakan GridSearchCV, RandomizedSearchCV, atau metode lainnya untuk mencari kombinasi hyperparameter terbaik"
   ]
  },
  {
   "cell_type": "code",
   "execution_count": 9,
   "metadata": {
    "colab": {
     "base_uri": "https://localhost:8080/"
    },
    "id": "winbFzb8NL95",
    "outputId": "be4de160-b8f3-4696-ab4a-ea0632ca77a1"
   },
   "outputs": [
    {
     "name": "stdout",
     "output_type": "stream",
     "text": [
      "Fitting 5 folds for each of 8 candidates, totalling 40 fits\n",
      "Fitting 5 folds for each of 27 candidates, totalling 135 fits\n",
      "Fitting 5 folds for each of 9 candidates, totalling 45 fits\n",
      "\n",
      "Hyperparameter Optimal:\n",
      "Decision Tree: {'model__criterion': 'entropy', 'model__max_depth': 15}\n",
      "Random Forest: {'model__max_depth': None, 'model__min_samples_split': 5, 'model__n_estimators': 200}\n",
      "SVM: {'model__C': 1, 'model__kernel': 'linear'}\n"
     ]
    }
   ],
   "source": [
    "# Identifikasi kolom numerik dan kategorikal\n",
    "num_features = X_train.select_dtypes(exclude=[\"object\"]).columns.tolist()\n",
    "cat_features = X_train.select_dtypes(include=[\"object\"]).columns.tolist()\n",
    "\n",
    "# Pipeline preprocessing untuk normalisasi & encoding\n",
    "feature_processor = ColumnTransformer(\n",
    "    transformers=[\n",
    "        (\"num\", StandardScaler(), num_features),\n",
    "        (\"cat\", OneHotEncoder(handle_unknown=\"ignore\", sparse_output=False), cat_features)\n",
    "    ]\n",
    ")\n",
    "\n",
    "# Hyperparameter Tuning untuk Decision Tree\n",
    "dt_model = Pipeline([\n",
    "    (\"processing\", feature_processor),\n",
    "    (\"model\", DecisionTreeClassifier(random_state=42))\n",
    "])\n",
    "\n",
    "dt_params = {\n",
    "    \"model__criterion\": [\"gini\", \"entropy\"],\n",
    "    \"model__max_depth\": [5, 10, 15, None]\n",
    "}\n",
    "\n",
    "dt_grid_search = GridSearchCV(dt_model, dt_params, cv=5, scoring=\"accuracy\", n_jobs=-1, verbose=1)\n",
    "dt_grid_search.fit(X_train, y_train)\n",
    "\n",
    "# Hyperparameter Tuning untuk Random Forest\n",
    "rf_model = Pipeline([\n",
    "    (\"processing\", feature_processor),\n",
    "    (\"model\", RandomForestClassifier(random_state=42))\n",
    "])\n",
    "\n",
    "rf_params = {\n",
    "    \"model__n_estimators\": [50, 100, 200],\n",
    "    \"model__max_depth\": [10, 20, None],\n",
    "    \"model__min_samples_split\": [2, 5, 10]\n",
    "}\n",
    "\n",
    "rf_grid_search = GridSearchCV(rf_model, rf_params, cv=5, scoring=\"accuracy\", n_jobs=-1, verbose=1)\n",
    "rf_grid_search.fit(X_train, y_train)\n",
    "\n",
    "# Hyperparameter Tuning untuk SVM\n",
    "svm_model = Pipeline([\n",
    "    (\"processing\", feature_processor),\n",
    "    (\"model\", SVC())\n",
    "])\n",
    "\n",
    "svm_params = {\n",
    "    \"model__C\": [0.1, 1, 10],\n",
    "    \"model__kernel\": [\"linear\", \"rbf\", \"poly\"]\n",
    "}\n",
    "\n",
    "svm_grid_search = GridSearchCV(svm_model, svm_params, cv=5, scoring=\"accuracy\", n_jobs=-1, verbose=1)\n",
    "svm_grid_search.fit(X_train, y_train)\n",
    "\n",
    "# Menampilkan kombinasi hyperparameter terbaik untuk setiap model\n",
    "optimal_params = {\n",
    "    \"Decision Tree\": dt_grid_search.best_params_,\n",
    "    \"Random Forest\": rf_grid_search.best_params_,\n",
    "    \"SVM\": svm_grid_search.best_params_\n",
    "}\n",
    "\n",
    "print(\"\\nHyperparameter Optimal:\")\n",
    "for model, params in optimal_params.items():\n",
    "    print(f\"{model}: {params}\")\n"
   ]
  },
  {
   "cell_type": "markdown",
   "metadata": {},
   "source": [
    "- **Decision Tree** bekerja optimal dengan `criterion = \"entropy\"` dan `max_depth = 15`, menunjukkan bahwa pemilihan kriteria pembelahan informasi dan kedalaman pohon yang cukup dalam mampu menangkap kompleksitas data tanpa overfitting secara signifikan.\n",
    "\n",
    "- **Random Forest** mencapai performa terbaik dengan `n_estimators = 200`, `max_depth = None`, dan `min_samples_split = 5`. Hal ini menandakan bahwa model membutuhkan jumlah pohon yang lebih banyak untuk stabilitas prediksi, serta membiarkan pohon tumbuh bebas (tanpa batas kedalaman) memungkinkan eksplorasi penuh terhadap fitur-fitur penting dalam dataset.\n",
    "\n",
    "- **SVM** menunjukkan hasil terbaik dengan `C = 1` dan `kernel = \"linear\"`, mengindikasikan bahwa pemisahan antar cluster dalam dataset ini bersifat linier dan tidak memerlukan transformasi non-linear seperti RBF atau polynomial.\n",
    "\n",
    "- Hasil tuning ini menunjukkan bahwa **SVM dengan kernel linear** adalah pendekatan yang sangat efektif pada dataset ini, karena dapat memberikan hasil optimal tanpa memerlukan kernel kompleks.\n",
    "\n",
    "\n",
    "- Perbedaan hyperparameter optimal di setiap model menunjukkan bahwa tiap algoritma memiliki pendekatan dan kekuatan tersendiri dalam menangani karakteristik fitur dan pola distribusi pada data transaksi yang digunakan.\n"
   ]
  },
  {
   "cell_type": "markdown",
   "metadata": {
    "id": "hE7pqlEPEYzI"
   },
   "source": [
    "## **d. Evaluasi Model Klasifikasi setelah Tuning (Optional)**"
   ]
  },
  {
   "cell_type": "markdown",
   "metadata": {
    "id": "feaPESoeN0zz"
   },
   "source": [
    "Berikut adalah rekomendasi tahapannya.\n",
    "1. Gunakan model dengan hyperparameter terbaik.\n",
    "2. Hitung ulang metrik evaluasi untuk melihat apakah ada peningkatan performa."
   ]
  },
  {
   "cell_type": "code",
   "execution_count": 10,
   "metadata": {
    "colab": {
     "base_uri": "https://localhost:8080/",
     "height": 1000
    },
    "id": "HTXZRvEeNMb1",
    "outputId": "2d4b8511-db3e-45da-d2f0-ad9764f50bfe"
   },
   "outputs": [
    {
     "name": "stdout",
     "output_type": "stream",
     "text": [
      "\n",
      "Perbandingan Hasil Evaluasi Setelah Tuning\n",
      "           Model  Cluster  Precision    Recall  F1-Score  Support  Accuracy\n",
      "0  Decision Tree        0   0.957597  0.960993  0.959292    282.0  0.949672\n",
      "1  Decision Tree        1   0.936782  0.931429  0.934097    175.0  0.949672\n",
      "2  Random Forest        0   0.955479  0.989362  0.972125    282.0  0.964989\n",
      "3  Random Forest        1   0.981818  0.925714  0.952941    175.0  0.964989\n",
      "4            SVM        0   0.992908  0.992908  0.992908    282.0  0.991247\n",
      "5            SVM        1   0.988571  0.988571  0.988571    175.0  0.991247\n"
     ]
    },
    {
     "data": {
      "image/png": "[encoded data removed]",
      "text/plain": [
       "<Figure size 600x400 with 2 Axes>"
      ]
     },
     "metadata": {},
     "output_type": "display_data"
    },
    {
     "data": {
      "image/png": "[encoded data removed]",
      "text/plain": [
       "<Figure size 600x400 with 2 Axes>"
      ]
     },
     "metadata": {},
     "output_type": "display_data"
    },
    {
     "data": {
      "image/png": "[encoded data removed]",
      "text/plain": [
       "<Figure size 600x400 with 2 Axes>"
      ]
     },
     "metadata": {},
     "output_type": "display_data"
    }
   ],
   "source": [
    "# Mengambil model terbaik berdasarkan hasil tuning\n",
    "model_dt_opt = dt_grid_search.best_estimator_\n",
    "model_rf_opt = rf_grid_search.best_estimator_\n",
    "model_svm_opt = svm_grid_search.best_estimator_\n",
    "\n",
    "# Melakukan prediksi dengan model yang telah dioptimalkan\n",
    "pred_dt = model_dt_opt.predict(X_test)\n",
    "pred_rf = model_rf_opt.predict(X_test)\n",
    "pred_svm = model_svm_opt.predict(X_test)\n",
    "\n",
    "# Fungsi untuk menghitung metrik evaluasi\n",
    "def evaluate_model(y_true, y_pred, model_name):\n",
    "    report = classification_report(y_true, y_pred, output_dict=True)\n",
    "    acc = accuracy_score(y_true, y_pred)\n",
    "    \n",
    "    metrics = [\n",
    "        [model_name, 0, report['0']['precision'], report['0']['recall'], report['0']['f1-score'], report['0']['support'], acc],\n",
    "        [model_name, 1, report['1']['precision'], report['1']['recall'], report['1']['f1-score'], report['1']['support'], acc]\n",
    "    ]\n",
    "    \n",
    "    return metrics\n",
    "\n",
    "# Mengumpulkan hasil evaluasi untuk setiap model\n",
    "evaluation_results = []\n",
    "evaluation_results.extend(evaluate_model(y_test, pred_dt, \"Decision Tree\"))\n",
    "evaluation_results.extend(evaluate_model(y_test, pred_rf, \"Random Forest\"))\n",
    "evaluation_results.extend(evaluate_model(y_test, pred_svm, \"SVM\"))\n",
    "\n",
    "# Menampilkan hasil dalam bentuk DataFrame\n",
    "df_eval = pd.DataFrame(evaluation_results, columns=['Model', 'Cluster', 'Precision', 'Recall', 'F1-Score', 'Support', 'Accuracy'])\n",
    "\n",
    "print(\"\\nPerbandingan Hasil Evaluasi Setelah Tuning\")\n",
    "print(df_eval)\n",
    "\n",
    "# Fungsi untuk visualisasi confusion matrix\n",
    "def display_confusion_matrix(y_true, y_pred, title):\n",
    "    cm = confusion_matrix(y_true, y_pred)\n",
    "    plt.figure(figsize=(6, 4))\n",
    "    sns.heatmap(cm, annot=True, fmt=\"d\", cmap=\"Blues\", xticklabels=np.unique(y_test), yticklabels=np.unique(y_test))\n",
    "    plt.xlabel(\"Predicted Label\")\n",
    "    plt.ylabel(\"True Label\")\n",
    "    plt.title(title)\n",
    "    plt.show()\n",
    "\n",
    "# Menampilkan confusion matrix untuk setiap model\n",
    "display_confusion_matrix(y_test, pred_dt, \"Confusion Matrix Decision Tree (Setelah Tuning)\")\n",
    "display_confusion_matrix(y_test, pred_rf, \"Confusion Matrix Random Forest (Setelah Tuning)\")\n",
    "display_confusion_matrix(y_test, pred_svm, \"Confusion Matrix SVM (Setelah Tuning)\")\n"
   ]
  },
  {
   "cell_type": "markdown",
   "metadata": {},
   "source": [
    "- **SVM** memberikan performa terbaik dengan **akurasi 99.12%**, serta precision, recall, dan F1-score seimbang tinggi:\n",
    "  - Cluster 0 & 1: Precision ≈ 99%, Recall ≈ 99%, F1-Score ≈ 99%\n",
    "\n",
    "- **Random Forest** cukup kuat dengan **akurasi 96.50%**, unggul di Cluster 0 namun recall sedikit lebih rendah di Cluster 1.\n",
    "\n",
    "- **Decision Tree** memiliki **akurasi 94.97%**, tetap menunjukkan performa stabil dan seimbang.\n",
    "\n",
    "SVM menjadi model terbaik setelah tuning, menunjukkan bahwa data cocok dengan pemisahan linear. Random Forest masih kompetitif, sedangkan Decision Tree efektif sebagai baseline."
   ]
  },
  {
   "cell_type": "markdown",
   "metadata": {
    "id": "ZRsOdm4uEgAW"
   },
   "source": [
    "## **e. Analisis Hasil Evaluasi Model Klasifikasi**"
   ]
  },
  {
   "cell_type": "markdown",
   "metadata": {
    "id": "Hm3BhSi6N4_l"
   },
   "source": [
    "Berikut adalah **rekomendasi** tahapannya.\n",
    "1. Bandingkan hasil evaluasi sebelum dan setelah tuning (jika dilakukan).\n",
    "2. Identifikasi kelemahan model, seperti:\n",
    "  - Precision atau Recall rendah untuk kelas tertentu.\n",
    "  - Apakah model mengalami overfitting atau underfitting?\n",
    "3. Berikan rekomendasi tindakan lanjutan, seperti mengumpulkan data tambahan atau mencoba algoritma lain jika hasil belum memuaskan."
   ]
  },
  {
   "cell_type": "markdown",
   "metadata": {},
   "source": [
    "### **1. Perbandingan Hasil Evaluasi Sebelum dan Setelah Tuning**\n",
    "\n",
    "Setelah melakukan tuning hyperparameter, terdapat peningkatan performa pada ketiga model klasifikasi yang digunakan: **Decision Tree, Random Forest, dan SVM**.\n",
    "\n",
    "1. **Decision Tree:**  \n",
    "   - **Akurasi tetap** di **94.97%** sebelum dan sesudah tuning.  \n",
    "   - Namun, terjadi peningkatan **precision** (dari 93.89% → 95.76%) dan **recall** (dari 98.23% → 96.10%) untuk Cluster 0.  \n",
    "   - Untuk Cluster 1, recall meningkat dari **89.71% → 93.14%**, menunjukkan peningkatan stabilitas model.\n",
    "\n",
    "2. **Random Forest:**  \n",
    "   - Akurasi meningkat dari **96.06%** menjadi **96.50%** setelah tuning.  \n",
    "   - Cluster 0 menunjukkan peningkatan F1-Score dari **96.88% → 97.21%**.  \n",
    "   - Recall pada Cluster 1 meningkat dari **91.43% → 92.57%**, menandakan pengurangan kesalahan klasifikasi.\n",
    "\n",
    "3. **SVM:**  \n",
    "   - Akurasi meningkat dari **97.15%** menjadi **99.12%**, menjadikannya **model dengan performa tertinggi**.  \n",
    "   - Precision, recall, dan F1-Score untuk kedua cluster hampir mencapai **99%**, menunjukkan hasil yang sangat seimbang dan konsisten.\n",
    "\n",
    "### **Kesimpulan**\n",
    "Tuning hyperparameter terbukti efektif dalam meningkatkan performa model, terutama untuk **SVM**, yang kini menjadi pilihan terbaik dalam klasifikasi dengan akurasi dan metrik evaluasi tertinggi.\n"
   ]
  },
  {
   "cell_type": "markdown",
   "metadata": {
    "id": "YOdEXvvxcHXI"
   },
   "source": [
    "### **2. Identifikasi Kelemahan Model**\n",
    "\n",
    "#### **Precision atau Recall Rendah untuk Kelas Tertentu**\n",
    "- **Decision Tree** memiliki recall rendah untuk **kelas 1**:\n",
    "  - Sebelum tuning: **89.71%**\n",
    "  - Setelah tuning: **93.14%**\n",
    "  - Ini menunjukkan bahwa masih ada cukup banyak data kelas positif yang salah diklasifikasikan sebagai negatif.\n",
    "\n",
    "- **Random Forest** juga mengalami hal serupa pada **kelas 1**:\n",
    "  - Sebelum tuning: **91.43%**\n",
    "  - Setelah tuning: **92.57%**\n",
    "  - Walaupun terjadi peningkatan, model masih belum optimal dalam mendeteksi kelas minoritas.\n",
    "\n",
    "- **SVM** menunjukkan hasil terbaik:\n",
    "  - Precision dan recall tinggi di kedua kelas, bahkan setelah tuning mencapai **≥ 98.85%**\n",
    "  - Ini menandakan keseimbangan dan konsistensi performa yang sangat baik antarkelas.\n",
    "\n",
    "#### **Potensi Overfitting atau Underfitting**\n",
    "- **Decision Tree** dan **Random Forest** cenderung memiliki sedikit bias terhadap kelas mayoritas (Cluster 0), terlihat dari recall yang lebih tinggi pada kelas tersebut.\n",
    "- **SVM** menunjukkan akurasi sangat tinggi setelah tuning (**99.12%**), yang meskipun bagus, dapat menjadi indikasi potensi **overfitting** jika evaluasi hanya dilakukan pada satu dataset.\n",
    "- Untuk memastikan bahwa SVM benar-benar mampu **menggeneralisasi dengan baik**, performa model perlu divalidasi lebih lanjut menggunakan:\n",
    "  - Data uji (test set) yang benar-benar baru\n",
    "  - Teknik **cross-validation**\n"
   ]
  },
  {
   "cell_type": "markdown",
   "metadata": {},
   "source": [
    "### **3. Rekomendasi Tindakan Lanjutan**\n",
    "\n",
    "- **Meningkatkan Recall untuk Kelas Minoritas:**  \n",
    "  - Menggunakan teknik **class balancing** seperti oversampling (SMOTE) atau under-sampling untuk mengatasi ketimpangan data.  \n",
    "  - Menerapkan **cost-sensitive learning**, terutama untuk Decision Tree dan Random Forest, agar lebih memperhatikan kelas minoritas.  \n",
    "\n",
    "- **Mengatasi Potensi Overfitting pada SVM:**  \n",
    "  - Menggunakan **regularisasi** dengan parameter **C** yang lebih kecil untuk mencegah model terlalu mengikuti data training.  \n",
    "  - Menguji model dengan data baru atau validasi silang lebih banyak lipatan untuk memastikan generalisasi yang lebih baik.  \n",
    "\n",
    "- **Menguji Algoritma Alternatif:**  \n",
    "  - Mencoba **Gradient Boosting (XGBoost, LightGBM)** yang sering kali memberikan performa lebih baik pada data tabular.  \n",
    "  - Menggunakan **Neural Networks** jika dataset lebih besar untuk menangkap pola kompleks yang mungkin tidak terdeteksi oleh model konvensional.  \n",
    "\n",
    "- **Mengumpulkan Data Tambahan:**  \n",
    "  - Jika data saat ini masih kurang representatif, perlu mengumpulkan lebih banyak sampel, terutama untuk kelas minoritas.  \n",
    "  - Menghilangkan atau memperbaiki fitur yang tidak relevan untuk meningkatkan akurasi model secara keseluruhan.  "
   ]
  }
 ],
 "metadata": {
  "colab": {
   "provenance": []
  },
  "kernelspec": {
   "display_name": "Python 3",
   "name": "python3"
  },
  "language_info": {
   "codemirror_mode": {
    "name": "ipython",
    "version": 3
   },
   "file_extension": ".py",
   "mimetype": "text/x-python",
   "name": "python",
   "nbconvert_exporter": "python",
   "pygments_lexer": "ipython3",
   "version": "3.13.2"
  }
 },
 "nbformat": 4,
 "nbformat_minor": 0
}
