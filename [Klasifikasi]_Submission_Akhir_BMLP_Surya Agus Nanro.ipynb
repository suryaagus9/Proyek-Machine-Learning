{
 "cells": [
  {
   "cell_type": "markdown",
   "metadata": {
    "id": "fKADPWcFKlj3"
   },
   "source": [
    "# **1. Import Library**"
   ]
  },
  {
   "cell_type": "markdown",
   "metadata": {
    "id": "LgA3ERnVn84N"
   },
   "source": [
    "Pada tahap ini, Anda perlu mengimpor beberapa pustaka (library) Python yang dibutuhkan untuk analisis data dan pembangunan model machine learning."
   ]
  },
  {
   "cell_type": "code",
   "execution_count": 1,
   "metadata": {
    "id": "BlmvjLY9M4Yj"
   },
   "outputs": [],
   "source": [
    "import pandas as pd\n",
    "import numpy as np\n",
    "import matplotlib.pyplot as plt\n",
    "import seaborn as sns \n",
    "from sklearn.model_selection import train_test_split\n",
    "from sklearn.preprocessing import OneHotEncoder, StandardScaler\n",
    "from sklearn.tree import DecisionTreeClassifier\n",
    "from sklearn.ensemble import RandomForestClassifier\n",
    "from sklearn.pipeline import Pipeline\n",
    "from sklearn.svm import SVC\n",
    "from sklearn.metrics import accuracy_score, classification_report, confusion_matrix\n",
    "from sklearn.compose import ColumnTransformer\n",
    "from sklearn.model_selection import GridSearchCV"
   ]
  },
  {
   "cell_type": "markdown",
   "metadata": {
    "id": "f3YIEnAFKrKL"
   },
   "source": [
    "# **2. Memuat Dataset dari Hasil Clustering**"
   ]
  },
  {
   "cell_type": "markdown",
   "metadata": {
    "id": "Ey3ItwTen_7E"
   },
   "source": [
    "Memuat dataset hasil clustering dari file CSV ke dalam variabel DataFrame."
   ]
  },
  {
   "cell_type": "code",
   "execution_count": 2,
   "metadata": {
    "colab": {
     "base_uri": "https://localhost:8080/",
     "height": 360
    },
    "id": "lWMMEOjxkchW",
    "outputId": "e5e62bd0-8b6b-4b76-d718-a8a3e617a40d"
   },
   "outputs": [],
   "source": [
    "# Memuat dataset\n",
    "df = pd.read_csv(\"Dataset_clustering.csv\")"
   ]
  },
  {
   "cell_type": "code",
   "execution_count": 3,
   "metadata": {},
   "outputs": [
    {
     "data": {
      "text/html": [
       "<div>\n",
       "<style scoped>\n",
       "    .dataframe tbody tr th:only-of-type {\n",
       "        vertical-align: middle;\n",
       "    }\n",
       "\n",
       "    .dataframe tbody tr th {\n",
       "        vertical-align: top;\n",
       "    }\n",
       "\n",
       "    .dataframe thead th {\n",
       "        text-align: right;\n",
       "    }\n",
       "</style>\n",
       "<table border=\"1\" class=\"dataframe\">\n",
       "  <thead>\n",
       "    <tr style=\"text-align: right;\">\n",
       "      <th></th>\n",
       "      <th>TransactionID</th>\n",
       "      <th>AccountID</th>\n",
       "      <th>TransactionAmount</th>\n",
       "      <th>TransactionDate</th>\n",
       "      <th>Location</th>\n",
       "      <th>DeviceID</th>\n",
       "      <th>IP Address</th>\n",
       "      <th>MerchantID</th>\n",
       "      <th>CustomerAge</th>\n",
       "      <th>TransactionDuration</th>\n",
       "      <th>...</th>\n",
       "      <th>TransactionType_Debit</th>\n",
       "      <th>Channel_Branch</th>\n",
       "      <th>Channel_Online</th>\n",
       "      <th>CustomerOccupation_Engineer</th>\n",
       "      <th>CustomerOccupation_Retired</th>\n",
       "      <th>CustomerOccupation_Student</th>\n",
       "      <th>Age_Category</th>\n",
       "      <th>Balance_Category</th>\n",
       "      <th>Cluster</th>\n",
       "      <th>Cluster_After_FeatureSelection</th>\n",
       "    </tr>\n",
       "  </thead>\n",
       "  <tbody>\n",
       "    <tr>\n",
       "      <th>0</th>\n",
       "      <td>TX000001</td>\n",
       "      <td>6</td>\n",
       "      <td>-0.971275</td>\n",
       "      <td>2023-04-11 16:29:14</td>\n",
       "      <td>51</td>\n",
       "      <td>6</td>\n",
       "      <td>3</td>\n",
       "      <td>29</td>\n",
       "      <td>1.423718</td>\n",
       "      <td>-0.552443</td>\n",
       "      <td>...</td>\n",
       "      <td>True</td>\n",
       "      <td>False</td>\n",
       "      <td>False</td>\n",
       "      <td>False</td>\n",
       "      <td>False</td>\n",
       "      <td>False</td>\n",
       "      <td>Senior</td>\n",
       "      <td>2</td>\n",
       "      <td>0</td>\n",
       "      <td>0</td>\n",
       "    </tr>\n",
       "    <tr>\n",
       "      <th>1</th>\n",
       "      <td>TX000002</td>\n",
       "      <td>7</td>\n",
       "      <td>0.269440</td>\n",
       "      <td>2023-06-27 16:44:19</td>\n",
       "      <td>56</td>\n",
       "      <td>4</td>\n",
       "      <td>4</td>\n",
       "      <td>25</td>\n",
       "      <td>1.311287</td>\n",
       "      <td>0.305314</td>\n",
       "      <td>...</td>\n",
       "      <td>True</td>\n",
       "      <td>False</td>\n",
       "      <td>False</td>\n",
       "      <td>False</td>\n",
       "      <td>False</td>\n",
       "      <td>False</td>\n",
       "      <td>Senior</td>\n",
       "      <td>3</td>\n",
       "      <td>2</td>\n",
       "      <td>0</td>\n",
       "    </tr>\n",
       "    <tr>\n",
       "      <th>2</th>\n",
       "      <td>TX000003</td>\n",
       "      <td>4</td>\n",
       "      <td>-0.586882</td>\n",
       "      <td>2023-07-10 18:16:08</td>\n",
       "      <td>56</td>\n",
       "      <td>5</td>\n",
       "      <td>6</td>\n",
       "      <td>26</td>\n",
       "      <td>-1.443277</td>\n",
       "      <td>-0.909842</td>\n",
       "      <td>...</td>\n",
       "      <td>True</td>\n",
       "      <td>False</td>\n",
       "      <td>True</td>\n",
       "      <td>False</td>\n",
       "      <td>False</td>\n",
       "      <td>True</td>\n",
       "      <td>Young</td>\n",
       "      <td>1</td>\n",
       "      <td>1</td>\n",
       "      <td>1</td>\n",
       "    </tr>\n",
       "    <tr>\n",
       "      <th>3</th>\n",
       "      <td>TX000004</td>\n",
       "      <td>7</td>\n",
       "      <td>-0.387456</td>\n",
       "      <td>2023-05-05 16:32:11</td>\n",
       "      <td>55</td>\n",
       "      <td>6</td>\n",
       "      <td>8</td>\n",
       "      <td>29</td>\n",
       "      <td>-1.049768</td>\n",
       "      <td>-1.353017</td>\n",
       "      <td>...</td>\n",
       "      <td>True</td>\n",
       "      <td>False</td>\n",
       "      <td>True</td>\n",
       "      <td>False</td>\n",
       "      <td>False</td>\n",
       "      <td>True</td>\n",
       "      <td>Young</td>\n",
       "      <td>0</td>\n",
       "      <td>2</td>\n",
       "      <td>0</td>\n",
       "    </tr>\n",
       "    <tr>\n",
       "      <th>4</th>\n",
       "      <td>TX000005</td>\n",
       "      <td>6</td>\n",
       "      <td>-0.973468</td>\n",
       "      <td>2023-10-16 17:51:24</td>\n",
       "      <td>57</td>\n",
       "      <td>3</td>\n",
       "      <td>4</td>\n",
       "      <td>27</td>\n",
       "      <td>-1.049768</td>\n",
       "      <td>1.120184</td>\n",
       "      <td>...</td>\n",
       "      <td>False</td>\n",
       "      <td>False</td>\n",
       "      <td>True</td>\n",
       "      <td>False</td>\n",
       "      <td>False</td>\n",
       "      <td>True</td>\n",
       "      <td>Young</td>\n",
       "      <td>2</td>\n",
       "      <td>2</td>\n",
       "      <td>1</td>\n",
       "    </tr>\n",
       "  </tbody>\n",
       "</table>\n",
       "<p>5 rows × 23 columns</p>\n",
       "</div>"
      ],
      "text/plain": [
       "  TransactionID  AccountID  TransactionAmount      TransactionDate  Location  \\\n",
       "0      TX000001          6          -0.971275  2023-04-11 16:29:14        51   \n",
       "1      TX000002          7           0.269440  2023-06-27 16:44:19        56   \n",
       "2      TX000003          4          -0.586882  2023-07-10 18:16:08        56   \n",
       "3      TX000004          7          -0.387456  2023-05-05 16:32:11        55   \n",
       "4      TX000005          6          -0.973468  2023-10-16 17:51:24        57   \n",
       "\n",
       "   DeviceID  IP Address  MerchantID  CustomerAge  TransactionDuration  ...  \\\n",
       "0         6           3          29     1.423718            -0.552443  ...   \n",
       "1         4           4          25     1.311287             0.305314  ...   \n",
       "2         5           6          26    -1.443277            -0.909842  ...   \n",
       "3         6           8          29    -1.049768            -1.353017  ...   \n",
       "4         3           4          27    -1.049768             1.120184  ...   \n",
       "\n",
       "   TransactionType_Debit  Channel_Branch Channel_Online  \\\n",
       "0                   True           False          False   \n",
       "1                   True           False          False   \n",
       "2                   True           False           True   \n",
       "3                   True           False           True   \n",
       "4                  False           False           True   \n",
       "\n",
       "   CustomerOccupation_Engineer  CustomerOccupation_Retired  \\\n",
       "0                        False                       False   \n",
       "1                        False                       False   \n",
       "2                        False                       False   \n",
       "3                        False                       False   \n",
       "4                        False                       False   \n",
       "\n",
       "   CustomerOccupation_Student  Age_Category  Balance_Category  Cluster  \\\n",
       "0                       False        Senior                 2        0   \n",
       "1                       False        Senior                 3        2   \n",
       "2                        True         Young                 1        1   \n",
       "3                        True         Young                 0        2   \n",
       "4                        True         Young                 2        2   \n",
       "\n",
       "  Cluster_After_FeatureSelection  \n",
       "0                              0  \n",
       "1                              0  \n",
       "2                              1  \n",
       "3                              0  \n",
       "4                              1  \n",
       "\n",
       "[5 rows x 23 columns]"
      ]
     },
     "execution_count": 3,
     "metadata": {},
     "output_type": "execute_result"
    }
   ],
   "source": [
    "# Menampilkan 5 data pertama\n",
    "df.head()"
   ]
  },
  {
   "cell_type": "markdown",
   "metadata": {
    "id": "KkPem5eWL2UP"
   },
   "source": [
    "# **3. Data Splitting**"
   ]
  },
  {
   "cell_type": "markdown",
   "metadata": {
    "id": "YYj1rl_JNI9Y"
   },
   "source": [
    "Tahap Data Splitting bertujuan untuk memisahkan dataset menjadi dua bagian: data latih (training set) dan data uji (test set)."
   ]
  },
  {
   "cell_type": "code",
   "execution_count": 4,
   "metadata": {
    "colab": {
     "base_uri": "https://localhost:8080/"
    },
    "id": "Hl-CzDawRS6F",
    "outputId": "b81c4ea0-c99e-4c38-dba1-53f7bab0aa88"
   },
   "outputs": [
    {
     "name": "stdout",
     "output_type": "stream",
     "text": [
      "Data latih terdiri dari 1825 sampel dan 19 fitur.\n",
      "Data uji terdiri dari 457 sampel dan 19 fitur.\n"
     ]
    }
   ],
   "source": [
    "# Memisahkan variabel independen (fitur) dan dependen (label target)\n",
    "X = df.drop(columns=[\"Cluster\", \"Cluster_After_FeatureSelection\", \"TransactionID\", \"AccountID\"])\n",
    "y = df[\"Cluster_After_FeatureSelection\"]\n",
    "\n",
    "# Membagi dataset menjadi set pelatihan (80%) dan pengujian (20%) dengan stratifikasi\n",
    "X_train, X_test, y_train, y_test = train_test_split(X, y, test_size=0.2, stratify=y, random_state=42)\n",
    "\n",
    "# Menampilkan jumlah sampel dan fitur setelah pembagian\n",
    "print(f\"Data latih terdiri dari {X_train.shape[0]} sampel dan {X_train.shape[1]} fitur.\")\n",
    "print(f\"Data uji terdiri dari {X_test.shape[0]} sampel dan {X_test.shape[1]} fitur.\")"
   ]
  },
  {
   "cell_type": "markdown",
   "metadata": {
    "id": "IVPbB03CMhTT"
   },
   "source": [
    "# **4. Membangun Model Klasifikasi**\n"
   ]
  },
  {
   "cell_type": "markdown",
   "metadata": {
    "id": "Ned1pL9zMmBK"
   },
   "source": [
    "## **a. Membangun Model Klasifikasi**"
   ]
  },
  {
   "cell_type": "markdown",
   "metadata": {
    "id": "WAWzPOE4Nkti"
   },
   "source": [
    "Setelah memilih algoritma klasifikasi yang sesuai, langkah selanjutnya adalah melatih model menggunakan data latih.\n",
    "\n",
    "Berikut adalah rekomendasi tahapannya.\n",
    "1. Pilih algoritma klasifikasi yang sesuai, seperti Logistic Regression, Decision Tree, Random Forest, atau K-Nearest Neighbors (KNN).\n",
    "2. Latih model menggunakan data latih."
   ]
  },
  {
   "cell_type": "code",
   "execution_count": 5,
   "metadata": {
    "colab": {
     "base_uri": "https://localhost:8080/"
    },
    "id": "4JYxBe87NLDk",
    "outputId": "4004e7e6-9797-41dc-9374-54b03b926203"
   },
   "outputs": [
    {
     "name": "stdout",
     "output_type": "stream",
     "text": [
      "\n",
      "Evaluasi Decision Tree:\n",
      "              precision    recall  f1-score     support\n",
      "0              0.938983  0.982270  0.960139  282.000000\n",
      "1              0.969136  0.897143  0.931751  175.000000\n",
      "accuracy       0.949672  0.949672  0.949672    0.949672\n",
      "macro avg      0.954059  0.939706  0.945945  457.000000\n",
      "weighted avg   0.950530  0.949672  0.949268  457.000000\n",
      "\n",
      "Evaluasi Random Forest:\n",
      "              precision    recall  f1-score     support\n",
      "0              0.955479  0.989362  0.972125  282.000000\n",
      "1              0.981818  0.925714  0.952941  175.000000\n",
      "accuracy       0.964989  0.964989  0.964989    0.964989\n",
      "macro avg      0.968649  0.957538  0.962533  457.000000\n",
      "weighted avg   0.965565  0.964989  0.964779  457.000000\n",
      "\n",
      "Evaluasi SVM:\n",
      "              precision    recall  f1-score     support\n",
      "0              0.982143  0.975177  0.978648  282.000000\n",
      "1              0.960452  0.971429  0.965909  175.000000\n",
      "accuracy       0.973742  0.973742  0.973742    0.973742\n",
      "macro avg      0.971297  0.973303  0.972278  457.000000\n",
      "weighted avg   0.973837  0.973742  0.973770  457.000000\n"
     ]
    }
   ],
   "source": [
    "# Menentukan fitur kategorikal\n",
    "categorical_cols = X_train.select_dtypes(include=[\"object\"]).columns\n",
    "\n",
    "# Preprocessing untuk model berbasis pohon keputusan\n",
    "tree_preprocessor = ColumnTransformer(\n",
    "    transformers=[(\"categorical\", OneHotEncoder(handle_unknown=\"ignore\"), categorical_cols)],\n",
    "    remainder=\"passthrough\"\n",
    ")\n",
    "\n",
    "# Preprocessing untuk model berbasis SVM (normalisasi tambahan)\n",
    "svm_preprocessor = ColumnTransformer(\n",
    "    transformers=[\n",
    "        (\"categorical\", OneHotEncoder(handle_unknown=\"ignore\"), categorical_cols),\n",
    "        (\"numerical\", StandardScaler(), X_train.select_dtypes(include=[\"int64\", \"float64\"]).columns)\n",
    "    ]\n",
    ")\n",
    "\n",
    "# Model Decision Tree\n",
    "decision_tree_pipeline = Pipeline([\n",
    "    (\"preprocessing\", tree_preprocessor),\n",
    "    (\"model\", DecisionTreeClassifier(random_state=42, max_depth=5))\n",
    "])\n",
    "\n",
    "decision_tree_pipeline.fit(X_train, y_train)\n",
    "dt_predictions = decision_tree_pipeline.predict(X_test)\n",
    "\n",
    "# Model Random Forest\n",
    "random_forest_pipeline = Pipeline([\n",
    "    (\"preprocessing\", tree_preprocessor),\n",
    "    (\"model\", RandomForestClassifier(random_state=21, n_estimators=100))\n",
    "])\n",
    "\n",
    "random_forest_pipeline.fit(X_train, y_train)\n",
    "rf_predictions = random_forest_pipeline.predict(X_test)\n",
    "\n",
    "# Model SVM\n",
    "svm_pipeline = Pipeline([\n",
    "    (\"preprocessing\", svm_preprocessor),\n",
    "    (\"model\", SVC(kernel=\"rbf\", C=1.0, gamma=\"scale\"))\n",
    "])\n",
    "\n",
    "svm_pipeline.fit(X_train, y_train)\n",
    "svm_predictions = svm_pipeline.predict(X_test)\n",
    "\n",
    "# Menyusun hasil evaluasi\n",
    "evaluation_results = {\n",
    "    \"Model\": [\"Decision Tree\", \"Random Forest\", \"SVM\"],\n",
    "    \"Accuracy\": [\n",
    "        accuracy_score(y_test, dt_predictions),\n",
    "        accuracy_score(y_test, rf_predictions),\n",
    "        accuracy_score(y_test, svm_predictions)\n",
    "    ]\n",
    "}\n",
    "\n",
    "# Menampilkan laporan klasifikasi\n",
    "print(\"\\nEvaluasi Decision Tree:\")\n",
    "print(pd.DataFrame(classification_report(y_test, dt_predictions, output_dict=True)).T)\n",
    "\n",
    "print(\"\\nEvaluasi Random Forest:\")\n",
    "print(pd.DataFrame(classification_report(y_test, rf_predictions, output_dict=True)).T)\n",
    "\n",
    "print(\"\\nEvaluasi SVM:\")\n",
    "print(pd.DataFrame(classification_report(y_test, svm_predictions, output_dict=True)).T)"
   ]
  },
  {
   "cell_type": "markdown",
   "metadata": {
    "id": "seYoHNY3XU1y"
   },
   "source": [
    "### **Analisis Algoritma Model Klasifikasi**\n",
    "Pada tahap ini, tiga algoritma klasifikasi digunakan untuk mengklasifikasikan hasil clustering, yaitu Decision Tree, Random Forest, dan Support Vector Machine (SVM).\n",
    "#### **Decision Tree**\n",
    "- Algoritma ini bekerja dengan membagi data berdasarkan fitur tertentu dalam bentuk struktur pohon.\n",
    "- Model ini menunjukkan akurasi 94.97%, dengan precision dan recall yang cukup seimbang.\n",
    "#### **Random Forest**\n",
    "- Random Forest merupakan pengembangan dari Decision Tree yang menggunakan banyak pohon untuk meningkatkan akurasi dan mengurangi overfitting.\n",
    "- Model ini memiliki akurasi 96.49%, sedikit lebih tinggi dibandingkan Decision Tree, menunjukkan kemampuannya dalam menangani data yang lebih kompleks.\n",
    "#### **Support Vector Machine (SVM)**\n",
    "- SVM bekerja dengan mencari hyperplane terbaik yang memisahkan kelas dalam ruang berdimensi tinggi.\n",
    "- Model ini memiliki akurasi tertinggi 97.37%, menunjukkan bahwa pendekatan berbasis margin maksimal efektif dalam menangani dataset ini.\n",
    "\n",
    "Dari hasil evaluasi, SVM menunjukkan kinerja terbaik dalam klasifikasi hasil clustering, diikuti oleh Random Forest, dan terakhir Decision Tree."
   ]
  },
  {
   "cell_type": "markdown",
   "metadata": {
    "id": "ergzChZFEL-O"
   },
   "source": [
    "## **b. Evaluasi Model Klasifikasi**"
   ]
  },
  {
   "cell_type": "markdown",
   "metadata": {
    "id": "zOm68u-7NpLT"
   },
   "source": [
    "Berikut adalah **rekomendasi** tahapannya.\n",
    "1. Lakukan prediksi menggunakan data uji.\n",
    "2. Hitung metrik evaluasi seperti Accuracy dan F1-Score (Opsional: Precision dan Recall).\n",
    "3. Buat confusion matrix untuk melihat detail prediksi benar dan salah."
   ]
  },
  {
   "cell_type": "code",
   "execution_count": 6,
   "metadata": {},
   "outputs": [],
   "source": [
    "# Preprocessor untuk Decision Tree dan Random Forest\n",
    "transformer_tree = ColumnTransformer(\n",
    "    transformers=[(\"categorical\", OneHotEncoder(handle_unknown=\"ignore\"), categorical_cols)],\n",
    "    remainder=\"passthrough\"\n",
    ")\n",
    "\n",
    "# Preprocessor untuk SVM (OneHotEncoder + StandardScaler)\n",
    "transformer_svm = ColumnTransformer(\n",
    "    transformers=[\n",
    "        (\"categorical\", OneHotEncoder(handle_unknown=\"ignore\"), categorical_cols),\n",
    "        (\"numerical\", StandardScaler(), X_train.select_dtypes(include=[\"int64\", \"float64\"]).columns.tolist())\n",
    "    ]\n",
    ")"
   ]
  },
  {
   "cell_type": "code",
   "execution_count": 7,
   "metadata": {},
   "outputs": [],
   "source": [
    "# Model Decision Tree\n",
    "model_dt = Pipeline([\n",
    "    (\"preprocessing\", transformer_tree),\n",
    "    (\"classifier\", DecisionTreeClassifier(random_state=21, max_depth=5))\n",
    "])\n",
    "model_dt.fit(X_train, y_train)\n",
    "y_dt_pred = model_dt.predict(X_test)\n",
    "\n",
    "# Model Random Forest\n",
    "model_rf = Pipeline([\n",
    "    (\"preprocessing\", transformer_tree),\n",
    "    (\"classifier\", RandomForestClassifier(random_state=42, n_estimators=100))\n",
    "])\n",
    "model_rf.fit(X_train, y_train)\n",
    "y_rf_pred = model_rf.predict(X_test)\n",
    "\n",
    "# Model Support Vector Machine (SVM)\n",
    "model_svm = Pipeline([\n",
    "    (\"preprocessing\", transformer_svm),\n",
    "    (\"classifier\", SVC(kernel=\"rbf\", C=1.0, gamma=\"scale\"))\n",
    "])\n",
    "model_svm.fit(X_train, y_train)\n",
    "y_svm_pred = model_svm.predict(X_test)"
   ]
  },
  {
   "cell_type": "code",
   "execution_count": 8,
   "metadata": {
    "colab": {
     "base_uri": "https://localhost:8080/",
     "height": 1000
    },
    "id": "tMq4QAssNLip",
    "outputId": "cceddbae-9568-4b44-dcb9-5d5659d5f8de"
   },
   "outputs": [
    {
     "name": "stdout",
     "output_type": "stream",
     "text": [
      "           Model Cluster  Precision    Recall  F1-Score  Support  Accuracy\n",
      "0  Decision Tree       0   0.938983  0.982270  0.960139    282.0  0.949672\n",
      "1  Decision Tree       1   0.969136  0.897143  0.931751    175.0  0.949672\n",
      "2  Random Forest       0   0.936667  0.996454  0.965636    282.0  0.956236\n",
      "3  Random Forest       1   0.993631  0.891429  0.939759    175.0  0.956236\n",
      "4            SVM       0   0.982143  0.975177  0.978648    282.0  0.973742\n",
      "5            SVM       1   0.960452  0.971429  0.965909    175.0  0.973742\n"
     ]
    },
    {
     "data": {
      "image/png": "[encoded data removed]",
      "text/plain": [
       "<Figure size 600x400 with 2 Axes>"
      ]
     },
     "metadata": {},
     "output_type": "display_data"
    },
    {
     "data": {
      "image/png": "[encoded data removed]",
      "text/plain": [
       "<Figure size 600x400 with 2 Axes>"
      ]
     },
     "metadata": {},
     "output_type": "display_data"
    },
    {
     "data": {
      "image/png": "[encoded data removed]",
      "text/plain": [
       "<Figure size 600x400 with 2 Axes>"
      ]
     },
     "metadata": {},
     "output_type": "display_data"
    }
   ],
   "source": [
    "# Menyimpan hasil evaluasi dalam bentuk dictionary\n",
    "eval_metrics = {\n",
    "    \"Decision Tree\": classification_report(y_test, y_dt_pred, output_dict=True),\n",
    "    \"Random Forest\": classification_report(y_test, y_rf_pred, output_dict=True),\n",
    "    \"SVM\": classification_report(y_test, y_svm_pred, output_dict=True),\n",
    "}\n",
    "\n",
    "# Menghitung akurasi untuk setiap model\n",
    "accuracy_scores = {\n",
    "    \"Decision Tree\": accuracy_score(y_test, y_dt_pred),\n",
    "    \"Random Forest\": accuracy_score(y_test, y_rf_pred),\n",
    "    \"SVM\": accuracy_score(y_test, y_svm_pred),\n",
    "}\n",
    "\n",
    "# Menyusun data evaluasi ke dalam bentuk DataFrame\n",
    "evaluation_results = {\n",
    "    \"Model\": [],\n",
    "    \"Cluster\": [],\n",
    "    \"Precision\": [],\n",
    "    \"Recall\": [],\n",
    "    \"F1-Score\": [],\n",
    "    \"Support\": [],\n",
    "    \"Accuracy\": [],\n",
    "}\n",
    "\n",
    "# Menambahkan metrik evaluasi ke dalam DataFrame\n",
    "for model_name, report in eval_metrics.items():\n",
    "    acc = accuracy_scores[model_name]\n",
    "    for cluster in [\"0\", \"1\"]:\n",
    "        evaluation_results[\"Model\"].append(model_name)\n",
    "        evaluation_results[\"Cluster\"].append(cluster)\n",
    "        evaluation_results[\"Precision\"].append(report[cluster][\"precision\"])\n",
    "        evaluation_results[\"Recall\"].append(report[cluster][\"recall\"])\n",
    "        evaluation_results[\"F1-Score\"].append(report[cluster][\"f1-score\"])\n",
    "        evaluation_results[\"Support\"].append(report[cluster][\"support\"])\n",
    "        evaluation_results[\"Accuracy\"].append(acc)\n",
    "\n",
    "# Konversi dictionary ke dalam DataFrame\n",
    "df_evaluation = pd.DataFrame(evaluation_results)\n",
    "print(df_evaluation)\n",
    "\n",
    "def plot_conf_matrix(y_true, y_pred, model_name):\n",
    "    matrix = confusion_matrix(y_true, y_pred)\n",
    "    plt.figure(figsize=(6, 4))\n",
    "    sns.heatmap(matrix, annot=True, fmt=\"d\", cmap=\"Blues\", xticklabels=set(y_test), yticklabels=set(y_test))\n",
    "    plt.xlabel(\"Predicted Label\")\n",
    "    plt.ylabel(\"True Label\")\n",
    "    plt.title(f\"Confusion Matrix {model_name}\")\n",
    "    plt.show()\n",
    "\n",
    "# Visualisasi confusion matrix untuk setiap model\n",
    "plot_conf_matrix(y_test, y_dt_pred, \"Decision Tree\")\n",
    "plot_conf_matrix(y_test, y_rf_pred, \"Random Forest\")\n",
    "plot_conf_matrix(y_test, y_svm_pred, \"SVM\")\n"
   ]
  },
  {
   "cell_type": "markdown",
   "metadata": {
    "id": "H4_9OwrsXZlz"
   },
   "source": [
    "### **Evaluasi Model Klasifikasi**\n",
    "\n",
    "Pada tahap ini, tiga algoritma klasifikasi digunakan untuk memprediksi label kelas berdasarkan dataset yang telah diproses, yaitu **Decision Tree, Random Forest, dan Support Vector Machine (SVM)**. Evaluasi dilakukan menggunakan metrik **precision, recall, F1-score, dan accuracy** untuk mengukur performa model.\n",
    "\n",
    "---\n",
    "\n",
    "### **1. Decision Tree Classifier**\n",
    "- **Akurasi:** 94.97%\n",
    "\n",
    "#### Cluster 0\n",
    "- **Precision:** 93.90%  \n",
    "- **Recall:** 98.23%  \n",
    "- **F1-Score:** 96.01%  \n",
    "\n",
    "#### Cluster 1\n",
    "- **Precision:** 96.91%  \n",
    "- **Recall:** 89.71%  \n",
    "- **F1-Score:** 93.18%  \n",
    "\n",
    "#### Kesimpulan\n",
    "- Model ini memiliki recall tinggi pada Cluster 0 (98.23%), yang berarti model lebih sedikit melakukan kesalahan dalam mengidentifikasi kelas ini.\n",
    "- Recall pada Cluster 1 lebih rendah (89.71%), yang menunjukkan bahwa beberapa data Cluster 1 salah diklasifikasikan.\n",
    "- Akurasi total 94.97% menunjukkan performa yang cukup baik, tetapi ada potensi peningkatan dalam klasifikasi Cluster 1.\n",
    "\n",
    "---\n",
    "\n",
    "### **2. Random Forest Classifier**\n",
    "- **Akurasi:** 95.62%\n",
    "\n",
    "#### Cluster 0\n",
    "- **Precision:** 93.67%  \n",
    "- **Recall:** 99.64%  \n",
    "- **F1-Score:** 96.56%  \n",
    "\n",
    "#### Cluster 1\n",
    "- **Precision:** 99.36%  \n",
    "- **Recall:** 89.14%  \n",
    "- **F1-Score:** 93.98%  \n",
    "\n",
    "#### Kesimpulan\n",
    "- Recall untuk Cluster 0 sangat tinggi (99.64%), yang berarti model sangat baik dalam mengidentifikasi data dari kelas ini.\n",
    "- Namun, Recall pada Cluster 1 lebih rendah (89.14%), yang menunjukkan bahwa model masih sering salah mengklasifikasikan data kelas ini.\n",
    "- Dengan akurasi 95.62%, model ini memiliki performa lebih baik dibandingkan Decision Tree tetapi masih kurang optimal dibandingkan SVM.\n",
    "\n",
    "---\n",
    "\n",
    "### **3. Support Vector Machine (SVM)**\n",
    "- **Akurasi:** **97.37% (tertinggi di antara ketiga model)**  \n",
    "\n",
    "#### Cluster 0\n",
    "- **Precision:** 98.21%  \n",
    "- **Recall:** 97.52%  \n",
    "- **F1-Score:** 97.86%  \n",
    "\n",
    "#### Cluster 1\n",
    "- **Precision:** 96.05%  \n",
    "- **Recall:** 97.14%  \n",
    "- **F1-Score:** 96.59%  \n",
    "\n",
    "#### Kesimpulan\n",
    "- SVM memiliki keseimbangan precision dan recall yang sangat baik di kedua cluster.\n",
    "- Akurasi tertinggi (97.37%), menjadikan SVM sebagai model terbaik di antara tiga algoritma yang diuji.\n",
    "- Model ini lebih stabil dan akurat, dengan sedikit kesalahan dalam klasifikasi kedua cluster.\n",
    "\n",
    "---\n",
    "\n",
    "### **Kesimpulan Perbandingan Model**\n",
    "1. SVM memiliki akurasi tertinggi (97.37%), menunjukkan performa paling unggul dibandingkan Decision Tree (94.97%) dan Random Forest (95.62%).  \n",
    "2. Decision Tree memiliki keseimbangan precision dan recall yang cukup baik, tetapi performanya masih sedikit di bawah SVM.  \n",
    "3. Random Forest memiliki recall tinggi untuk Cluster 0 tetapi lebih rendah untuk Cluster 1, yang dapat menyebabkan lebih banyak kesalahan klasifikasi pada Cluster 1.  \n",
    "4. SVM unggul dalam precision dan recall di kedua cluster, menjadikannya model yang lebih andal dalam menangani distribusi data yang ada.  \n",
    "\n",
    "Berdasarkan hasil evaluasi ini, Support Vector Machine (SVM) adalah model terbaik untuk dataset ini karena memiliki akurasi tertinggi, keseimbangan precision dan recall yang baik, serta performa yang lebih stabil dibandingkan model lainnya.\n"
   ]
  },
  {
   "cell_type": "markdown",
   "metadata": {
    "id": "ph9yIYDXEPuB"
   },
   "source": [
    "## **c. Tuning Model Klasifikasi (Optional)**"
   ]
  },
  {
   "cell_type": "markdown",
   "metadata": {
    "id": "-Bikx3LINv5e"
   },
   "source": [
    "Gunakan GridSearchCV, RandomizedSearchCV, atau metode lainnya untuk mencari kombinasi hyperparameter terbaik"
   ]
  },
  {
   "cell_type": "code",
   "execution_count": 9,
   "metadata": {
    "colab": {
     "base_uri": "https://localhost:8080/"
    },
    "id": "winbFzb8NL95",
    "outputId": "be4de160-b8f3-4696-ab4a-ea0632ca77a1"
   },
   "outputs": [
    {
     "name": "stdout",
     "output_type": "stream",
     "text": [
      "Fitting 5 folds for each of 8 candidates, totalling 40 fits\n",
      "Fitting 5 folds for each of 27 candidates, totalling 135 fits\n",
      "Fitting 5 folds for each of 9 candidates, totalling 45 fits\n",
      "\n",
      "Hyperparameter Optimal:\n",
      "Decision Tree: {'model__criterion': 'entropy', 'model__max_depth': 10}\n",
      "Random Forest: {'model__max_depth': None, 'model__min_samples_split': 2, 'model__n_estimators': 100}\n",
      "SVM: {'model__C': 1, 'model__kernel': 'linear'}\n"
     ]
    }
   ],
   "source": [
    "# Identifikasi kolom numerik dan kategorikal\n",
    "num_features = X_train.select_dtypes(exclude=[\"object\"]).columns.tolist()\n",
    "cat_features = X_train.select_dtypes(include=[\"object\"]).columns.tolist()\n",
    "\n",
    "# Pipeline preprocessing untuk normalisasi & encoding\n",
    "feature_processor = ColumnTransformer(\n",
    "    transformers=[\n",
    "        (\"num\", StandardScaler(), num_features),\n",
    "        (\"cat\", OneHotEncoder(handle_unknown=\"ignore\", sparse_output=False), cat_features)\n",
    "    ]\n",
    ")\n",
    "\n",
    "# Hyperparameter Tuning untuk Decision Tree\n",
    "dt_model = Pipeline([\n",
    "    (\"processing\", feature_processor),\n",
    "    (\"model\", DecisionTreeClassifier(random_state=42))\n",
    "])\n",
    "\n",
    "dt_params = {\n",
    "    \"model__criterion\": [\"gini\", \"entropy\"],\n",
    "    \"model__max_depth\": [5, 10, 15, None]\n",
    "}\n",
    "\n",
    "dt_grid_search = GridSearchCV(dt_model, dt_params, cv=5, scoring=\"accuracy\", n_jobs=-1, verbose=1)\n",
    "dt_grid_search.fit(X_train, y_train)\n",
    "\n",
    "# Hyperparameter Tuning untuk Random Forest\n",
    "rf_model = Pipeline([\n",
    "    (\"processing\", feature_processor),\n",
    "    (\"model\", RandomForestClassifier(random_state=42))\n",
    "])\n",
    "\n",
    "rf_params = {\n",
    "    \"model__n_estimators\": [50, 100, 200],\n",
    "    \"model__max_depth\": [10, 20, None],\n",
    "    \"model__min_samples_split\": [2, 5, 10]\n",
    "}\n",
    "\n",
    "rf_grid_search = GridSearchCV(rf_model, rf_params, cv=5, scoring=\"accuracy\", n_jobs=-1, verbose=1)\n",
    "rf_grid_search.fit(X_train, y_train)\n",
    "\n",
    "# Hyperparameter Tuning untuk SVM\n",
    "svm_model = Pipeline([\n",
    "    (\"processing\", feature_processor),\n",
    "    (\"model\", SVC())\n",
    "])\n",
    "\n",
    "svm_params = {\n",
    "    \"model__C\": [0.1, 1, 10],\n",
    "    \"model__kernel\": [\"linear\", \"rbf\", \"poly\"]\n",
    "}\n",
    "\n",
    "svm_grid_search = GridSearchCV(svm_model, svm_params, cv=5, scoring=\"accuracy\", n_jobs=-1, verbose=1)\n",
    "svm_grid_search.fit(X_train, y_train)\n",
    "\n",
    "# Menampilkan kombinasi hyperparameter terbaik untuk setiap model\n",
    "optimal_params = {\n",
    "    \"Decision Tree\": dt_grid_search.best_params_,\n",
    "    \"Random Forest\": rf_grid_search.best_params_,\n",
    "    \"SVM\": svm_grid_search.best_params_\n",
    "}\n",
    "\n",
    "print(\"\\nHyperparameter Optimal:\")\n",
    "for model, params in optimal_params.items():\n",
    "    print(f\"{model}: {params}\")\n"
   ]
  },
  {
   "cell_type": "markdown",
   "metadata": {},
   "source": [
    "- **Decision Tree** bekerja optimal dengan criterion = \"entropy\" dan max_depth = 10, yang menunjukkan bahwa kedalaman terbatas membantu menghindari overfitting.\n",
    "\n",
    "- **Random Forest** mencapai performa terbaik dengan 100 pohon (n_estimators = 100) dan max_depth tidak dibatasi (None), menandakan bahwa lebih banyak pohon meningkatkan stabilitas model.\n",
    "\n",
    "- **SVM** menunjukkan hasil terbaik dengan C = 1 dan kernel = \"linear\", mengindikasikan bahwa dataset lebih cocok dengan pemisahan linear dibandingkan dengan kernel kompleks seperti RBF atau polynomial.\n",
    "\n",
    "- Hasil tuning menunjukkan bahwa SVM memiliki potensi terbaik dalam menangani dataset ini karena tetap memberikan hasil optimal dengan kernel linear.\n",
    "\n",
    "- Perbedaan optimal hyperparameter antar model menunjukkan bahwa setiap algoritma memiliki karakteristik unik dalam menangani fitur dan pola pada dataset."
   ]
  },
  {
   "cell_type": "markdown",
   "metadata": {
    "id": "hE7pqlEPEYzI"
   },
   "source": [
    "## **d. Evaluasi Model Klasifikasi setelah Tuning (Optional)**"
   ]
  },
  {
   "cell_type": "markdown",
   "metadata": {
    "id": "feaPESoeN0zz"
   },
   "source": [
    "Berikut adalah rekomendasi tahapannya.\n",
    "1. Gunakan model dengan hyperparameter terbaik.\n",
    "2. Hitung ulang metrik evaluasi untuk melihat apakah ada peningkatan performa."
   ]
  },
  {
   "cell_type": "code",
   "execution_count": 10,
   "metadata": {
    "colab": {
     "base_uri": "https://localhost:8080/",
     "height": 1000
    },
    "id": "HTXZRvEeNMb1",
    "outputId": "2d4b8511-db3e-45da-d2f0-ad9764f50bfe"
   },
   "outputs": [
    {
     "name": "stdout",
     "output_type": "stream",
     "text": [
      "\n",
      "Perbandingan Hasil Evaluasi Setelah Tuning\n",
      "           Model  Cluster  Precision    Recall  F1-Score  Support  Accuracy\n",
      "0  Decision Tree        0   0.961131  0.964539  0.962832    282.0  0.954048\n",
      "1  Decision Tree        1   0.942529  0.937143  0.939828    175.0  0.954048\n",
      "2  Random Forest        0   0.946128  0.996454  0.970639    282.0  0.962801\n",
      "3  Random Forest        1   0.993750  0.908571  0.949254    175.0  0.962801\n",
      "4            SVM        0   0.992933  0.996454  0.994690    282.0  0.993435\n",
      "5            SVM        1   0.994253  0.988571  0.991404    175.0  0.993435\n"
     ]
    },
    {
     "data": {
      "image/png": "[encoded data removed]",
      "text/plain": [
       "<Figure size 600x400 with 2 Axes>"
      ]
     },
     "metadata": {},
     "output_type": "display_data"
    },
    {
     "data": {
      "image/png": "[encoded data removed]",
      "text/plain": [
       "<Figure size 600x400 with 2 Axes>"
      ]
     },
     "metadata": {},
     "output_type": "display_data"
    },
    {
     "data": {
      "image/png": "[encoded data removed]",
      "text/plain": [
       "<Figure size 600x400 with 2 Axes>"
      ]
     },
     "metadata": {},
     "output_type": "display_data"
    }
   ],
   "source": [
    "# Mengambil model terbaik berdasarkan hasil tuning\n",
    "model_dt_opt = dt_grid_search.best_estimator_\n",
    "model_rf_opt = rf_grid_search.best_estimator_\n",
    "model_svm_opt = svm_grid_search.best_estimator_\n",
    "\n",
    "# Melakukan prediksi dengan model yang telah dioptimalkan\n",
    "pred_dt = model_dt_opt.predict(X_test)\n",
    "pred_rf = model_rf_opt.predict(X_test)\n",
    "pred_svm = model_svm_opt.predict(X_test)\n",
    "\n",
    "# Fungsi untuk menghitung metrik evaluasi\n",
    "def evaluate_model(y_true, y_pred, model_name):\n",
    "    report = classification_report(y_true, y_pred, output_dict=True)\n",
    "    acc = accuracy_score(y_true, y_pred)\n",
    "    \n",
    "    metrics = [\n",
    "        [model_name, 0, report['0']['precision'], report['0']['recall'], report['0']['f1-score'], report['0']['support'], acc],\n",
    "        [model_name, 1, report['1']['precision'], report['1']['recall'], report['1']['f1-score'], report['1']['support'], acc]\n",
    "    ]\n",
    "    \n",
    "    return metrics\n",
    "\n",
    "# Mengumpulkan hasil evaluasi untuk setiap model\n",
    "evaluation_results = []\n",
    "evaluation_results.extend(evaluate_model(y_test, pred_dt, \"Decision Tree\"))\n",
    "evaluation_results.extend(evaluate_model(y_test, pred_rf, \"Random Forest\"))\n",
    "evaluation_results.extend(evaluate_model(y_test, pred_svm, \"SVM\"))\n",
    "\n",
    "# Menampilkan hasil dalam bentuk DataFrame\n",
    "df_eval = pd.DataFrame(evaluation_results, columns=['Model', 'Cluster', 'Precision', 'Recall', 'F1-Score', 'Support', 'Accuracy'])\n",
    "\n",
    "print(\"\\nPerbandingan Hasil Evaluasi Setelah Tuning\")\n",
    "print(df_eval)\n",
    "\n",
    "# Fungsi untuk visualisasi confusion matrix\n",
    "def display_confusion_matrix(y_true, y_pred, title):\n",
    "    cm = confusion_matrix(y_true, y_pred)\n",
    "    plt.figure(figsize=(6, 4))\n",
    "    sns.heatmap(cm, annot=True, fmt=\"d\", cmap=\"Blues\", xticklabels=np.unique(y_test), yticklabels=np.unique(y_test))\n",
    "    plt.xlabel(\"Predicted Label\")\n",
    "    plt.ylabel(\"True Label\")\n",
    "    plt.title(title)\n",
    "    plt.show()\n",
    "\n",
    "# Menampilkan confusion matrix untuk setiap model\n",
    "display_confusion_matrix(y_test, pred_dt, \"Confusion Matrix Decision Tree (Setelah Tuning)\")\n",
    "display_confusion_matrix(y_test, pred_rf, \"Confusion Matrix Random Forest (Setelah Tuning)\")\n",
    "display_confusion_matrix(y_test, pred_svm, \"Confusion Matrix SVM (Setelah Tuning)\")\n"
   ]
  },
  {
   "cell_type": "markdown",
   "metadata": {},
   "source": [
    "- SVM menunjukkan performa terbaik dengan akurasi tertinggi (99.34%), serta precision, recall, dan F1-score yang sangat tinggi di kedua kelas.\n",
    "\n",
    "- Random Forest juga cukup baik dengan akurasi 96.28%, meskipun recall untuk kelas 1 (90.85%) lebih rendah dibanding SVM.\n",
    "\n",
    "- Decision Tree memiliki akurasi terendah (95.40%), tetapi tetap menunjukkan keseimbangan antara precision dan recall.\n",
    "\n",
    "- Recall tinggi pada Random Forest dan SVM menunjukkan bahwa model ini lebih baik dalam mengenali kelas positif (1).\n",
    "\n",
    "- Performa SVM yang unggul menandakan bahwa data kemungkinan memiliki pola yang lebih dapat dipisahkan secara linear atau dengan margin optimal."
   ]
  },
  {
   "cell_type": "markdown",
   "metadata": {
    "id": "ZRsOdm4uEgAW"
   },
   "source": [
    "## **e. Analisis Hasil Evaluasi Model Klasifikasi**"
   ]
  },
  {
   "cell_type": "markdown",
   "metadata": {
    "id": "Hm3BhSi6N4_l"
   },
   "source": [
    "Berikut adalah **rekomendasi** tahapannya.\n",
    "1. Bandingkan hasil evaluasi sebelum dan setelah tuning (jika dilakukan).\n",
    "2. Identifikasi kelemahan model, seperti:\n",
    "  - Precision atau Recall rendah untuk kelas tertentu.\n",
    "  - Apakah model mengalami overfitting atau underfitting?\n",
    "3. Berikan rekomendasi tindakan lanjutan, seperti mengumpulkan data tambahan atau mencoba algoritma lain jika hasil belum memuaskan."
   ]
  },
  {
   "cell_type": "markdown",
   "metadata": {},
   "source": [
    "### **1. Perbandingan Hasil Evaluasi Sebelum dan Setelah Tuning**\n",
    "\n",
    "Setelah melakukan tuning hyperparameter, terdapat peningkatan performa pada ketiga model klasifikasi yang digunakan: **Decision Tree, Random Forest, dan SVM**.\n",
    "\n",
    "1. **Decision Tree:**  \n",
    "   - Sebelum tuning, model ini memiliki akurasi **94.97%**, sedangkan setelah tuning meningkat menjadi **95.40%**.  \n",
    "   - Precision dan recall mengalami sedikit peningkatan, tetapi tetap lebih rendah dibandingkan model lain.  \n",
    "\n",
    "2. **Random Forest:**  \n",
    "   - Akurasinya meningkat dari **95.62%** menjadi **96.28%** setelah tuning.  \n",
    "   - Recall untuk kelas 1 sedikit meningkat, tetapi masih lebih rendah dibandingkan SVM, menunjukkan adanya potensi misclassifications pada kelas tersebut.  \n",
    "\n",
    "3. **SVM:**  \n",
    "   - Sebelum tuning, model ini memiliki akurasi tertinggi **97.37%**, dan setelah tuning meningkat menjadi **99.34%**.  \n",
    "   - Peningkatan terbesar terlihat pada recall kelas 1, yang mendekati sempurna setelah tuning.  \n",
    "   - Model ini menunjukkan keseimbangan terbaik antara precision dan recall, sehingga menjadi pilihan terbaik di antara ketiga model.  \n",
    "\n",
    "Secara keseluruhan, tuning hyperparameter berhasil meningkatkan kinerja model, terutama pada SVM, yang kini menjadi model dengan performa terbaik dalam klasifikasi dataset ini.\n"
   ]
  },
  {
   "cell_type": "markdown",
   "metadata": {
    "id": "YOdEXvvxcHXI"
   },
   "source": [
    "### **2. Identifikasi Kelemahan Model**  \n",
    "\n",
    "- **Precision atau Recall Rendah untuk Kelas Tertentu:**  \n",
    "  - Decision Tree memiliki recall lebih rendah untuk kelas **1**, menunjukkan beberapa sampel kelas positif salah diklasifikasikan.  \n",
    "  - Random Forest memiliki recall lebih rendah untuk kelas **1** (**90.85%**), yang berarti model lebih sering mengklasifikasikan data positif sebagai negatif.  \n",
    "  - SVM memiliki precision dan recall yang sangat tinggi, menunjukkan keseimbangan yang baik dalam klasifikasi.  \n",
    "\n",
    "- **Apakah Model Mengalami Overfitting atau Underfitting?**  \n",
    "  - Decision Tree dan Random Forest memiliki performa yang cukup baik, tetapi Random Forest cenderung bias terhadap kelas mayoritas.  \n",
    "  - SVM memiliki akurasi yang sangat tinggi (**99.34%**), yang dapat mengindikasikan overfitting terhadap data training.  \n",
    "  - Performa tinggi SVM perlu diuji lebih lanjut dengan data baru untuk memastikan model dapat melakukan generalisasi dengan baik.  \n"
   ]
  },
  {
   "cell_type": "markdown",
   "metadata": {},
   "source": [
    "### **3. Rekomendasi Tindakan Lanjutan**\n",
    "\n",
    "- **Meningkatkan Recall untuk Kelas Minoritas:**  \n",
    "  - Menggunakan teknik **class balancing** seperti oversampling (SMOTE) atau under-sampling untuk mengatasi ketimpangan data.  \n",
    "  - Menerapkan **cost-sensitive learning**, terutama untuk Decision Tree dan Random Forest, agar lebih memperhatikan kelas minoritas.  \n",
    "\n",
    "- **Mengatasi Potensi Overfitting pada SVM:**  \n",
    "  - Menggunakan **regularisasi** dengan parameter **C** yang lebih kecil untuk mencegah model terlalu mengikuti data training.  \n",
    "  - Menguji model dengan data baru atau validasi silang lebih banyak lipatan untuk memastikan generalisasi yang lebih baik.  \n",
    "\n",
    "- **Menguji Algoritma Alternatif:**  \n",
    "  - Mencoba **Gradient Boosting (XGBoost, LightGBM)** yang sering kali memberikan performa lebih baik pada data tabular.  \n",
    "  - Menggunakan **Neural Networks** jika dataset lebih besar untuk menangkap pola kompleks yang mungkin tidak terdeteksi oleh model konvensional.  \n",
    "\n",
    "- **Mengumpulkan Data Tambahan:**  \n",
    "  - Jika data saat ini masih kurang representatif, perlu mengumpulkan lebih banyak sampel, terutama untuk kelas minoritas.  \n",
    "  - Menghilangkan atau memperbaiki fitur yang tidak relevan untuk meningkatkan akurasi model secara keseluruhan.  "
   ]
  }
 ],
 "metadata": {
  "colab": {
   "provenance": []
  },
  "kernelspec": {
   "display_name": "Python 3",
   "name": "python3"
  },
  "language_info": {
   "codemirror_mode": {
    "name": "ipython",
    "version": 3
   },
   "file_extension": ".py",
   "mimetype": "text/x-python",
   "name": "python",
   "nbconvert_exporter": "python",
   "pygments_lexer": "ipython3",
   "version": "3.13.2"
  }
 },
 "nbformat": 4,
 "nbformat_minor": 0
}
